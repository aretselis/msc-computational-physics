{
 "cells": [
  {
   "cell_type": "markdown",
   "metadata": {},
   "source": [
    "# Problem Set #1\n",
    "\n",
    "**Computational Mathematics (ΥΦΥ101)**\n",
    "\n",
    "Implemented by: **Anastasios-Faidon Retselis (AEM: 4394)**\n",
    "\n",
    "# Exercise 1\n",
    "\n",
    "## Problem Statement:\n",
    "\n",
    "Find the root to the following equations:\n",
    "\n",
    "$$\n",
    "\\begin{split}\n",
    "(a) &\\;\\; e^{x} - 2x\\cos(x)-3=0, \\; x\\in (0,2) \\\\\n",
    "(b) &\\;\\; x^{2} + \\sin(x)+e^{x}-2=0, \\; x\\in (0,1)\n",
    "\\end{split}\n",
    "$$\n",
    "\n",
    "using the methods of bisection and Newton-Raphson. Compare the methods by computing the number of iterations needed to achieve accuracy of 5 significant digits."
   ]
  },
  {
   "cell_type": "markdown",
   "metadata": {},
   "source": [
    "Let us first import the necessary packages to solve this exercise using Python:"
   ]
  },
  {
   "cell_type": "markdown",
   "metadata": {},
   "source": [
    "## Solution for (a)\n",
    "\n",
    "$$\n",
    "\\begin{split}\n",
    "(a) &\\;\\; e^{x} - 2x\\cos(x)-3=0, \\; x\\in (0,2)\n",
    "\\end{split}\n",
    "$$\n",
    "\n",
    "Let's first examine the bi-section method. We are interested in also documenting the number of iterations required to achieve an accuracy of 5 significant digits. We will therefore use the **Scarborough criterion**, computing it in the beginning of our code and then calculating the approximate error of each iteration. We will meet the criterion once the approximater error is below the error given by the Scarborough formula."
   ]
  },
  {
   "cell_type": "code",
   "execution_count": 1,
   "metadata": {},
   "outputs": [
    {
     "name": "stdout",
     "output_type": "stream",
     "text": [
      "Root found (after 19 iterations)! x_root = 1.30463\n"
     ]
    }
   ],
   "source": [
    "import math\n",
    "import matplotlib.pyplot as plt\n",
    "\n",
    "# Bi-section method\n",
    "\n",
    "x_lower = 0\n",
    "x_upper = 2\n",
    "n = 5 # Number of significant digits to be computed\n",
    "es = 0.5*pow(10, (2-n))\n",
    "ea = 100\n",
    "repetitions = 0\n",
    "value_prev = 100\n",
    "\n",
    "bisec_iter_list = []\n",
    "bisec_value_list = []\n",
    "\n",
    "# Define function and begin computation\n",
    "\n",
    "f = lambda x : math.exp(x)-(2*x*math.cos(x))-3\n",
    "\n",
    "while ea>es:\n",
    "    xr = (x_lower+x_upper)/2\n",
    "    repetitions = repetitions + 1\n",
    "    if f(x_lower)*f(xr)<0:\n",
    "        x_upper = xr\n",
    "        value = xr\n",
    "    elif f(x_upper)*f(xr)<0:\n",
    "        x_lower = xr\n",
    "        value = xr\n",
    "    ea = math.fabs((value-value_prev)*100/value)\n",
    "    value_prev = xr\n",
    "    bisec_iter_list.append(repetitions)\n",
    "    bisec_value_list.append(xr)\n",
    "    \n",
    "print('Root found (after %d iterations)! x_root = %.5f' % (repetitions, xr))"
   ]
  },
  {
   "cell_type": "markdown",
   "metadata": {},
   "source": [
    "We can also plot the results to see how the method approaches the desired accuracy:"
   ]
  },
  {
   "cell_type": "code",
   "execution_count": 2,
   "metadata": {},
   "outputs": [
    {
     "data": {
      "image/png": "[encoded data removed]",
      "text/plain": [
       "<Figure size 432x288 with 2 Axes>"
      ]
     },
     "metadata": {
      "needs_background": "light"
     },
     "output_type": "display_data"
    }
   ],
   "source": [
    "# Plot bisection method results\n",
    "\n",
    "plt.subplot(2,1,1)\n",
    "plt.title('Bisection method results')\n",
    "plt.scatter(bisec_iter_list,bisec_value_list)\n",
    "axes = plt.gca()\n",
    "axes.set_ylabel('Root estimate, x_i')\n",
    "plt.grid()\n",
    "plt.subplot(2,1,2)\n",
    "plt.scatter(bisec_iter_list[-4:],bisec_value_list[-4:])\n",
    "plt.axhline(y=1.30463,color='r')\n",
    "axes = plt.gca()\n",
    "axes.set_ylim([1.3046,1.3047])\n",
    "axes.set_ylabel('Root estimate, x_i')\n",
    "axes.set_xlabel('Iteration number, i')\n",
    "axes.ticklabel_format(useOffset=False)\n",
    "plt.grid()"
   ]
  },
  {
   "cell_type": "markdown",
   "metadata": {},
   "source": [
    "\n",
    "Let's now examine the Newton-Raphson Method. We will again use the **Scarborough criterion** as the stopping condition, computing it in the beginning of our code and then calculating the approximate error of each iteration. We will stop the calculation once the approximate error is below the error given by the Scarborough formula. For the Newton-Raphson Method, we also have to calculate the derivative of the function. Let's assume:\n",
    "\n",
    "$$\n",
    "\\begin{split}\n",
    "&f(x)=e^{x} - 2x\\cos(x)-3 \\\\\n",
    "\\end{split}\n",
    "$$\n",
    "\n",
    "the derivative of $f(x)$ is:\n",
    "\n",
    "$$\n",
    "\\begin{split}\n",
    "&f'(x)=e^{x} - 2x\\cos(x)+2x\\sin(x) \\\\\n",
    "\\end{split}\n",
    "$$"
   ]
  },
  {
   "cell_type": "code",
   "execution_count": 3,
   "metadata": {},
   "outputs": [
    {
     "name": "stdout",
     "output_type": "stream",
     "text": [
      "Root found (after 5 iterations)! x_root = 1.30463\n"
     ]
    }
   ],
   "source": [
    "import math\n",
    "import matplotlib.pyplot as plt\n",
    "\n",
    "# Newton-Raphson method\n",
    "\n",
    "x0 = 1\n",
    "n = 5 # Number of significant digits to be computed\n",
    "es = 0.5*pow(10, (2-n))\n",
    "ea = 100\n",
    "repetitions = 0\n",
    "x_prev = x0\n",
    "\n",
    "newton_iter_list = []\n",
    "newton_value_list = []\n",
    "\n",
    "# Define function, derivative and begin computation\n",
    "\n",
    "f = lambda x : math.exp(x)-(2*x*math.cos(x))-3\n",
    "fdot = lambda x : math.exp(x)+2*(x*math.sin(x)-math.cos(x))\n",
    "\n",
    "while ea>es:\n",
    "    x_next = x_prev - (f(x_prev)/fdot(x_prev))\n",
    "    ea = math.fabs((x_next-x_prev)*100/x_next)\n",
    "    repetitions = repetitions + 1\n",
    "    x_prev = x_next\n",
    "    newton_iter_list.append(repetitions)\n",
    "    newton_value_list.append(x_next)\n",
    "    \n",
    "print('Root found (after %d iterations)! x_root = %.5f' % (repetitions, x_next))"
   ]
  },
  {
   "cell_type": "markdown",
   "metadata": {},
   "source": [
    "Let's again plot the results to see how the method approaches the desired accuracy:"
   ]
  },
  {
   "cell_type": "code",
   "execution_count": 4,
   "metadata": {},
   "outputs": [
    {
     "data": {
      "image/png": "[encoded data removed]",
      "text/plain": [
       "<Figure size 432x288 with 2 Axes>"
      ]
     },
     "metadata": {
      "needs_background": "light"
     },
     "output_type": "display_data"
    }
   ],
   "source": [
    "# Plot Newton-Raphson method results\n",
    "\n",
    "plt.subplot(2,1,1)\n",
    "plt.title('Newton-Raphson method results')\n",
    "plt.scatter(newton_iter_list,newton_value_list)\n",
    "axes = plt.gca()\n",
    "axes.set_ylabel('Root estimate, x_i')\n",
    "plt.grid()\n",
    "plt.subplot(2,1,2)\n",
    "plt.scatter(newton_iter_list[-4:],newton_value_list[-4:])\n",
    "plt.axhline(y=1.30463,color='r')\n",
    "axes = plt.gca()\n",
    "axes.set_ylim([1.3046,1.30468])\n",
    "axes.set_ylabel('Root estimate, x_i')\n",
    "axes.set_xlabel('Iteration number, i')\n",
    "axes.ticklabel_format(useOffset=False)\n",
    "plt.grid()"
   ]
  },
  {
   "cell_type": "markdown",
   "metadata": {},
   "source": [
    "Looking at the results we can assume that the Newton-Raphson Method performs better the bisection method used above. However, let's not forget that we used assumed a value of $x_{0}=1$ for the Newton-Raphson method, while we used the entire interval values $x_{lower}=0$ and $x_{upper}=2$ for the bisection method. It would be interesting to see if there are worse case scenarios for the Newton-Raphson method, for which we wouuld have to perform more iterations.\n",
    "\n",
    "We can re-run the Newton-Raphson method starting from $x_{0}=1$ moving up towards to $x_{0}=2$ with a step of $step=0.1$. For each step we will ask for the number of iterations to achieve the requested accuracy, in order to ultimately obtain the maximum possible number of iterations for this scenario. We will also provide the minimum amount of iterations needed (although this is not a \"fair\" comparison)."
   ]
  },
  {
   "cell_type": "code",
   "execution_count": 5,
   "metadata": {},
   "outputs": [
    {
     "name": "stdout",
     "output_type": "stream",
     "text": [
      "Max iterations needed to find root is for initial value x_0 = 0.00 (14 iterations)!\n",
      "Min iterations needed to find root is for initial value x_0 = 1.30 (3 iterations)!\n"
     ]
    }
   ],
   "source": [
    "import math\n",
    "import numpy as np\n",
    "\n",
    "# Newton-Raphson method (step increasing - max/min_iterations finder)\n",
    "\n",
    "x_lower = 0\n",
    "x_upper = 2\n",
    "step_size = 0.1\n",
    "max_iterations = 0\n",
    "min_iterations = 100\n",
    "n = 5 # Number of significant digits to be computed\n",
    "es = 0.5*pow(10, (2-n))\n",
    "\n",
    "# Define function, derivative and begin computation\n",
    "\n",
    "f = lambda x : math.exp(x)-(2*x*math.cos(x))-3\n",
    "fdot = lambda x : math.exp(x)+2*(x*math.sin(x)-math.cos(x))\n",
    "\n",
    "for i in np.arange(x_lower, x_upper, step_size):\n",
    "#Looking for max/min iterations in interval with given step size\n",
    "    repetitions = 0\n",
    "    x_prev = i\n",
    "    ea = 100\n",
    "    while ea>es:\n",
    "        repetitions = repetitions + 1\n",
    "        x_next = x_prev - (f(x_prev)/fdot(x_prev))\n",
    "        ea = math.fabs((x_next-x_prev)*100/x_next)\n",
    "        x_prev = x_next\n",
    "    if repetitions > max_iterations:\n",
    "        max_iterations = repetitions\n",
    "        max_iterations_initial = i\n",
    "    elif repetitions < min_iterations:\n",
    "        min_iterations = repetitions\n",
    "        min_iterations_initial = i\n",
    "        \n",
    "print('Max iterations needed to find root is for initial value x_0 = %.2f (%d iterations)!' % (max_iterations_initial, max_iterations))\n",
    "print('Min iterations needed to find root is for initial value x_0 = %.2f (%d iterations)!' % (min_iterations_initial, min_iterations))"
   ]
  },
  {
   "cell_type": "markdown",
   "metadata": {},
   "source": [
    "Based on this result it is evident that for this specific example, the **Newton-Raphson** method outperforms the bi-section method, with the worst case scenario requiring 4 less iterations than the bisection method to achieve the requested accuracy. "
   ]
  },
  {
   "cell_type": "markdown",
   "metadata": {},
   "source": [
    "## Solution for (b)\n",
    "\n",
    "$$\n",
    "\\begin{split}\n",
    "(b) &\\;\\; x^{2} + \\sin(x)+e^{x}-2=0, \\; x\\in (0,1)\n",
    "\\end{split}\n",
    "$$\n",
    "\n",
    "In a similar manner, let's begin with the bisection method and plot the results:"
   ]
  },
  {
   "cell_type": "code",
   "execution_count": 6,
   "metadata": {},
   "outputs": [
    {
     "name": "stdout",
     "output_type": "stream",
     "text": [
      "Root found (after 19 iterations)! x_root = 0.38708\n"
     ]
    }
   ],
   "source": [
    "import math\n",
    "import numpy as np\n",
    "import matplotlib.pyplot as plt\n",
    "\n",
    "# Bi-section method\n",
    "\n",
    "x_lower = 0\n",
    "x_upper = 1\n",
    "n = 5 # Number of significant digits to be computed\n",
    "es = 0.5*pow(10, (2-n))\n",
    "ea = 100\n",
    "repetitions = 0\n",
    "value_prev = 100\n",
    "\n",
    "# Define function and begin computation\n",
    "\n",
    "f = lambda x : pow(x,2)+math.sin(x)+math.exp(x)-2\n",
    "\n",
    "while ea>es:\n",
    "    xr = (x_lower+x_upper)/2\n",
    "    repetitions = repetitions + 1\n",
    "    if f(x_lower)*f(xr)<0:\n",
    "        x_upper = xr\n",
    "        value = xr\n",
    "    elif f(x_upper)*f(xr)<0:\n",
    "        x_lower = xr\n",
    "        value = xr\n",
    "    ea = math.fabs((value-value_prev)*100/value)\n",
    "    value_prev = xr\n",
    "    \n",
    "print('Root found (after %d iterations)! x_root = %.5f' % (repetitions, xr))"
   ]
  },
  {
   "cell_type": "markdown",
   "metadata": {},
   "source": [
    "To use the Newton-Raphson method, we have again to calculate the derivative. Let's assume:\n",
    "\n",
    "$$\n",
    "\\begin{split}\n",
    "f(x)=x^{2}+ \\sin(x) + e^{x} -2\n",
    "\\end{split}\n",
    "$$\n",
    "\n",
    "then the derivative of $f(x)$ is:\n",
    "\n",
    "$$\n",
    "\\begin{split}\n",
    "f'(x)=2x+\\cos(x)+e^{x}\n",
    "\\end{split}\n",
    "$$\n",
    "\n",
    "And let's also assume that we start from the middle of the interval $(0,1)$, and therefore we have $x_{0}=0.5$. To make the comparison \"fair\" again, we will also determine maximum possible amount of iterations needed if we start from any value inside $(0,1)$ with a $step=0.1$."
   ]
  },
  {
   "cell_type": "code",
   "execution_count": 7,
   "metadata": {},
   "outputs": [
    {
     "name": "stdout",
     "output_type": "stream",
     "text": [
      "Root found (after 4 iterations)! x_root = 0.38708\n"
     ]
    }
   ],
   "source": [
    "import math\n",
    "\n",
    "# Newton-Raphson method\n",
    "\n",
    "x0 = 0.5\n",
    "n = 5 # Number of significant digits to be computed\n",
    "es = 0.5*pow(10, (2-n))\n",
    "ea = 100\n",
    "repetitions = 0\n",
    "x_prev = x0\n",
    "\n",
    "# Define function, derivative and begin computation\n",
    "\n",
    "f = lambda x : pow(x,2)+math.sin(x)+math.exp(x)-2\n",
    "fdot = lambda x : (2*x)+math.cos(x)+math.exp(x)\n",
    "\n",
    "while ea>es:\n",
    "    x_next = x_prev - (f(x_prev)/fdot(x_prev))\n",
    "    ea = math.fabs((x_next-x_prev)*100/x_next)\n",
    "    repetitions = repetitions + 1\n",
    "    x_prev = x_next\n",
    "    \n",
    "print('Root found (after %d iterations)! x_root = %.5f' % (repetitions, x_next))"
   ]
  },
  {
   "cell_type": "code",
   "execution_count": 8,
   "metadata": {},
   "outputs": [
    {
     "name": "stdout",
     "output_type": "stream",
     "text": [
      "Max iterations needed to find root is for initial value x_0 = 1.70 (6 iterations)!\n",
      "Min iterations needed to find root is for initial value x_0 = 0.40 (3 iterations)!\n"
     ]
    }
   ],
   "source": [
    "import math\n",
    "import numpy as np\n",
    "\n",
    "# Newton-Raphson method (step increasing - max/min_iterations finder)\n",
    "\n",
    "x_lower = 0\n",
    "x_upper = 2\n",
    "step_size = 0.1\n",
    "max_iterations = 0\n",
    "min_iterations = 100\n",
    "n = 5 # Number of significant digits to be computed\n",
    "es = 0.5*pow(10, (2-n))\n",
    "\n",
    "# Define function, derivative and begin computation\n",
    "\n",
    "f = lambda x : pow(x,2)+math.sin(x)+math.exp(x)-2\n",
    "fdot = lambda x : (2*x)+math.cos(x)+math.exp(x)\n",
    "\n",
    "for i in np.arange(x_lower, x_upper, step_size):\n",
    "#Looking for max/min iterations in interval with given step size\n",
    "    repetitions = 0\n",
    "    x_prev = i\n",
    "    ea = 100\n",
    "    while ea>es:\n",
    "        repetitions = repetitions + 1\n",
    "        x_next = x_prev - (f(x_prev)/fdot(x_prev))\n",
    "        ea = math.fabs((x_next-x_prev)*100/x_next)\n",
    "        x_prev = x_next\n",
    "    if repetitions > max_iterations:\n",
    "        max_iterations = repetitions\n",
    "        max_iterations_initial = i\n",
    "    elif repetitions < min_iterations:\n",
    "        min_iterations = repetitions\n",
    "        min_iterations_initial = i\n",
    "        \n",
    "print('Max iterations needed to find root is for initial value x_0 = %.2f (%d iterations)!' % (max_iterations_initial, max_iterations))\n",
    "print('Min iterations needed to find root is for initial value x_0 = %.2f (%d iterations)!' % (min_iterations_initial, min_iterations))"
   ]
  },
  {
   "cell_type": "markdown",
   "metadata": {},
   "source": [
    "## Conclusion\n",
    "\n",
    "For both functions used in (a) and (b), we can clearly see that the Newton-Raphson method outperforms the bisection method.\n",
    "\n",
    "\n",
    "# Exercise 2\n",
    "\n",
    "## Problem Statement\n",
    "\n",
    "Find the root to the following equation, using the $x=g(x)$ method (carefully select the $x=g(x)$ format that converges):\n",
    "\n",
    "$$\n",
    "\\begin{split}\n",
    "2e^{x}-3x^{2}=0, \\;x\\in[-1,1]\n",
    "\\end{split}\n",
    "$$\n",
    "\n",
    "Also use Newton-Raphson and compare the results of the two methods.\n",
    "\n",
    "## Solution using the $x=g(x)$ method\n",
    "\n",
    "Let us first examine the simple fixed point iteration method or $x=g(x)$ method. We first have to bring the original $f(x)=0$ equation in the $x=g(x)$ form. By rearranging the equation, we obtain\n",
    "\n",
    "$$\n",
    "\\begin{split}\n",
    "& 2e^{x}-3x^{2}=0\\\\\n",
    "\\Rightarrow & 2e^{x}=3x^{2}\\\\\n",
    "\\Rightarrow & \\frac{2e^{x}}{3}=x^{2}\\\\\n",
    "\\Rightarrow & x=\\pm\\sqrt{\\frac{2e^{x}}{3}}\n",
    "\\end{split}\n",
    "$$\n",
    "\n",
    "which is in the desired $x=g(x)$ format. Before beginning the actual calculation, let's determine if the plus or minus sign will converge by plotting $y(x)=x$ and $g(x)=\\pm\\sqrt{\\frac{2e^{x}}{3}}$, and also checking the derivative for the correct function."
   ]
  },
  {
   "cell_type": "code",
   "execution_count": 9,
   "metadata": {},
   "outputs": [
    {
     "data": {
      "image/png": "[encoded data removed]",
      "text/plain": [
       "<Figure size 432x288 with 1 Axes>"
      ]
     },
     "metadata": {
      "needs_background": "light"
     },
     "output_type": "display_data"
    }
   ],
   "source": [
    "import numpy as np\n",
    "import matplotlib.pyplot as plt\n",
    "\n",
    "# Plot the selected g(x) to see if it converges\n",
    "\n",
    "x = np.linspace(-1,1,100)\n",
    "y = x\n",
    "g1 = np.sqrt((2*np.exp(x))/3)\n",
    "g2 = -np.sqrt((2*np.exp(x))/3)\n",
    "\n",
    "plt.figure()\n",
    "plt.plot(x,y,label=r'$y(x)=x$')\n",
    "plt.plot(x,g1,label=r'$g(x)=\\sqrt{\\frac{2e^{x}}{3}}$')\n",
    "plt.plot(x,g2,label=r'$g(x)=-\\sqrt{\\frac{2e^{x}}{3}}$')\n",
    "plt.title(r'Graph based check of convergence for $g(x)=\\pm\\sqrt{\\frac{2e^{x}}{3}}$')\n",
    "plt.legend()\n",
    "plt.grid()"
   ]
  },
  {
   "cell_type": "markdown",
   "metadata": {},
   "source": [
    "Based on the figure above, we can conclude that the solution exists for $g(x)=-\\sqrt{\\frac{2e^{x}}{3}}$. Let's also prove the convergence by checking the derivative of $g(x)$:\n",
    "\n",
    "$$\n",
    "\\begin{split}\n",
    "& g'(x)=(-\\sqrt{\\frac{2e^{x}}{3}})'\\\\\n",
    "\\Rightarrow & g'(x)=-\\sqrt{\\frac{2}{3}}(\\sqrt{e^{x}})'\\\\\n",
    "\\Rightarrow & g'(x)=-\\sqrt{\\frac{2}{3}}\\frac{e^{x}}{2\\sqrt{e^{x}}}\\\\\n",
    "\\Rightarrow & g'(x)=-\\sqrt{\\frac{e^{x}}{6}}\n",
    "\\end{split}\n",
    "$$\n",
    "\n",
    "Let's now plot $|g'(x)|$ to determine if the $x=g(x)$ method will converge:"
   ]
  },
  {
   "cell_type": "code",
   "execution_count": 10,
   "metadata": {},
   "outputs": [
    {
     "data": {
      "image/png": "[encoded data removed]",
      "text/plain": [
       "<Figure size 432x288 with 1 Axes>"
      ]
     },
     "metadata": {
      "needs_background": "light"
     },
     "output_type": "display_data"
    }
   ],
   "source": [
    "import numpy as np\n",
    "import matplotlib.pyplot as plt\n",
    "\n",
    "# Plot g'(x) to determine if |g'x|<1\n",
    "\n",
    "x = np.linspace(-1,1,100)\n",
    "y = x\n",
    "gdot = np.abs(-np.sqrt(np.exp(x)/6))\n",
    "\n",
    "plt.figure()\n",
    "plt.plot(x,gdot,label=r'$|g\\'(x)|=|-\\sqrt{\\frac{e^{x}}{6}}|$')\n",
    "plt.title('Convergence check |g\\'(x)|<1')\n",
    "plt.legend()\n",
    "plt.grid()"
   ]
  },
  {
   "cell_type": "markdown",
   "metadata": {},
   "source": [
    "We can indeed observe that for the entire interval $x\\in[-1,1]$ the inequality $|g'(x)|<1$ holds true. We can proceed with finding the root using the simple fixed-point iteration method, computing the approximate error in each step and comparing it to a predetermined Scarborough criterion in order to use it as a stopping condition."
   ]
  },
  {
   "cell_type": "code",
   "execution_count": 11,
   "metadata": {},
   "outputs": [
    {
     "name": "stdout",
     "output_type": "stream",
     "text": [
      "x=g(x) method:\n",
      "Root found (after 10 iterations)! x_root = -0.60374\n"
     ]
    }
   ],
   "source": [
    "import math\n",
    "import numpy as np\n",
    "\n",
    "# Simple fixed-point iteration or x=g(x) method\n",
    "\n",
    "x0 = -0.5\n",
    "max_iterations = 200\n",
    "n = 5 # Number of significant digits to be computed\n",
    "es = 0.5*pow(10, (2-n))\n",
    "ea = 100\n",
    "g = lambda x : -np.sqrt(2*np.exp(x)/3)\n",
    "\n",
    "xr = x0\n",
    "iterations = 0\n",
    "\n",
    "while ea>=es:\n",
    "    xr_old = xr\n",
    "    xr = g(xr_old)\n",
    "    iterations += 1\n",
    "    if xr != 0:\n",
    "        ea = math.fabs((xr-xr_old)*100/xr)\n",
    "    if iterations >= max_iterations:\n",
    "        break\n",
    "    #print('xr=%.5f xr_old=%.5f ea=%.5f es=%.5f' % (xr,xr_old,ea,es))\n",
    "\n",
    "print('x=g(x) method:')\n",
    "if iterations < max_iterations:\n",
    "    print('Root found (after %d iterations)! x_root = %.5f' % (iterations, xr))\n",
    "else:\n",
    "    print('Max iterations reached without solution!')"
   ]
  },
  {
   "cell_type": "markdown",
   "metadata": {},
   "source": [
    "## Solution using the Newton-Raphson Method\n",
    "\n",
    "Let us now compare the $x=g(x)$ method to the Newton-Raphson Method. To solve $2e^{x}-3x^{2}=0$, let's assume:\n",
    "\n",
    "$$\n",
    "\\begin{split}\n",
    "f(x)&=2e^{x}-3x^{2}, \\;x\\in[-1,1]\\\\\n",
    "f'(x)&=2e^{x}-6x\n",
    "\\end{split}\n",
    "$$"
   ]
  },
  {
   "cell_type": "code",
   "execution_count": 12,
   "metadata": {},
   "outputs": [
    {
     "name": "stdout",
     "output_type": "stream",
     "text": [
      "Newton-Raphson Method:\n",
      "Root found (after 4 iterations)! x_root = -0.60374\n"
     ]
    }
   ],
   "source": [
    "import math\n",
    "import numpy as np\n",
    "\n",
    "# Newton-Raphson method\n",
    "\n",
    "f = lambda x : 2*np.exp(x)-3*pow(x,2)\n",
    "fdot = lambda x : 2*np.exp(x)-6*x\n",
    "\n",
    "x0 = -0.5\n",
    "max_iterations = 200\n",
    "n = 5 # Number of significant digits to be computed\n",
    "es = 0.5*pow(10, (2-n))\n",
    "ea = 100\n",
    "\n",
    "xr = x0\n",
    "iterations = 0\n",
    "\n",
    "while ea>es:\n",
    "    xr_old = xr\n",
    "    xr = xr_old - (f(xr_old)/fdot(xr_old))\n",
    "    iterations += 1\n",
    "    if xr != 0:\n",
    "        ea = math.fabs((xr-xr_old)*100/xr)\n",
    "    if iterations >= max_iterations:\n",
    "        break\n",
    "\n",
    "print('Newton-Raphson Method:')\n",
    "if iterations < max_iterations:\n",
    "    print('Root found (after %d iterations)! x_root = %.5f' % (iterations, xr))\n",
    "else:\n",
    "    print('Max iterations reached without solution!')"
   ]
  },
  {
   "cell_type": "markdown",
   "metadata": {},
   "source": [
    "## Conclusion\n",
    "\n",
    "Using exactly the same initial guess for both methods, we notice that the Newton-Raphson method outperforms the $x=g(x)$ method. This happens because the error of each iteration is approximately the square of the previous iteration error.\n",
    "\n",
    "# Exercise 3\n",
    "\n",
    "## Problem Statement\n",
    "\n",
    "Find the Lagrange polynomials that have the same values as the given functions, at the points specified:\n",
    "\n",
    "$$\n",
    "\\begin{split}\n",
    "y(x)=1+sin(\\pi x),\\;&for\\;x=-1,0\\;and\\;1\\\\\n",
    "f(x)=\\frac{1}{1+x^{2}},\\;&for\\;x=-5,-4,-3,...,3,4,5\n",
    "\\end{split}\n",
    "$$\n",
    "\n",
    "Plot your results for comparison.\n",
    "\n",
    "## Solution for $y(x)$\n",
    "\n",
    "For any given set of n data points, we can get a Langrange polynomial of n-1th order. Therefore, since we have 3 data sets based on $y(x)$ we can determine that our Lagrange polynomial will be a 2nd order (max) polynomial given by the formula:\n",
    "\n",
    "$$\n",
    "\\begin{split}\n",
    "P_{n}(x)=\\sum_{i=0}^{n}f_{i}L_{i}(x)\n",
    "\\end{split}\n",
    "$$\n",
    "\n",
    "where $L_{i}$ is:\n",
    "\n",
    "$$\n",
    "\\begin{split}\n",
    "L_{i}(x)=\\prod_{j=0,\\; j\\neq1}^{n} \\frac{x-x_{j}}{x_{i}-x_{j}}\n",
    "\\end{split}\n",
    "$$\n",
    "\n",
    "Let's now calculate it:"
   ]
  },
  {
   "cell_type": "code",
   "execution_count": 13,
   "metadata": {},
   "outputs": [
    {
     "name": "stdout",
     "output_type": "stream",
     "text": [
      "The Lagrange interpolating polynomial is:\n",
      "1.0*x*(x/2 + 1/2) + 0.5*x*(x - 1) - 1.0*(x - 1)*(x + 1)\n",
      "\n",
      "Simplifying the Lagrange interpolating polynomial...\n",
      "1.66533453693773e-16*x + 1.0\n"
     ]
    },
    {
     "data": {
      "image/png": "[encoded data removed]",
      "text/plain": [
       "<Figure size 432x288 with 1 Axes>"
      ]
     },
     "metadata": {
      "needs_background": "light"
     },
     "output_type": "display_data"
    }
   ],
   "source": [
    "import matplotlib.pyplot as plt\n",
    "import sympy\n",
    "import numpy as np\n",
    "\n",
    "x = sympy.symbols('x')\n",
    "# Insert data sets, data_y derived from function\n",
    "data_x = np.array([-1,0,1])\n",
    "data_y = 1+np.sin(data_x*np.pi)\n",
    "P = 0\n",
    "\n",
    "# Calculate the Lagrange interpolating polynomial\n",
    "for i in range(len(data_x)):\n",
    "    L = 1\n",
    "    for j in range(len(data_x)):\n",
    "        if i!=j:\n",
    "            L = L * (x-data_x[j])/(data_x[i]-data_x[j])\n",
    "    P += L*data_y[i]\n",
    "print('The Lagrange interpolating polynomial is:')\n",
    "print(P)\n",
    "print('\\nSimplifying the Lagrange interpolating polynomial...')\n",
    "print(sympy.simplify(P))\n",
    "\n",
    "# Plot with matplotlib instead of sympy.plot to also add scatter points\n",
    "# Create a np.linspace and plot the function there\n",
    "lam_P = sympy.lambdify(x,P,modules=['numpy'])\n",
    "x_plot = np.linspace(-2,2,100)\n",
    "y_plot = lam_P(x_plot)\n",
    "\n",
    "plt.plot(x_plot,y_plot,color='red',label='P(x)')\n",
    "plt.scatter(data_x,data_y,label='Data points')\n",
    "plt.xlabel('x')\n",
    "plt.ylabel('y')\n",
    "plt.title('Interpolating Lagrange polynomial')\n",
    "plt.legend()\n",
    "plt.grid()"
   ]
  },
  {
   "cell_type": "markdown",
   "metadata": {},
   "source": [
    "We see that the terms cancel each other out and we therefore end up with a linear solution for the three datapoints.\n",
    "\n",
    "## Solution for $f(x)$\n",
    "\n",
    "For the given $f(x)$, since we have 11 data sets, we can determine that our Lagrange polynomial will be a 10th order polynomial. Let's now calculate it:"
   ]
  },
  {
   "cell_type": "code",
   "execution_count": 14,
   "metadata": {},
   "outputs": [
    {
     "name": "stdout",
     "output_type": "stream",
     "text": [
      "The Lagrange interpolating polynomial is:\n",
      "-1.05989689323023e-8*x*(-x - 4)*(x - 5)*(x - 4)*(x - 3)*(x - 2)*(x - 1)*(x + 1)*(x + 2)*(x + 3) + 1.05989689323023e-7*x*(x/10 + 1/2)*(x - 4)*(x - 3)*(x - 2)*(x - 1)*(x + 1)*(x + 2)*(x + 3)*(x + 4) - 1.45891690009337e-6*x*(x/9 + 5/9)*(x - 5)*(x - 3)*(x - 2)*(x - 1)*(x + 1)*(x + 2)*(x + 3)*(x + 4) + 9.92063492063492e-6*x*(x/8 + 5/8)*(x - 5)*(x - 4)*(x - 2)*(x - 1)*(x + 1)*(x + 2)*(x + 3)*(x + 4) - 4.62962962962963e-5*x*(x/7 + 5/7)*(x - 5)*(x - 4)*(x - 3)*(x - 1)*(x + 1)*(x + 2)*(x + 3)*(x + 4) + 0.000173611111111111*x*(x/6 + 5/6)*(x - 5)*(x - 4)*(x - 3)*(x - 2)*(x + 1)*(x + 2)*(x + 3)*(x + 4) + 0.000115740740740741*x*(x/4 + 5/4)*(x - 5)*(x - 4)*(x - 3)*(x - 2)*(x - 1)*(x + 2)*(x + 3)*(x + 4) - 1.98412698412698e-5*x*(x/3 + 5/3)*(x - 5)*(x - 4)*(x - 3)*(x - 2)*(x - 1)*(x + 1)*(x + 3)*(x + 4) + 2.48015873015873e-6*x*(x/2 + 5/2)*(x - 5)*(x - 4)*(x - 3)*(x - 2)*(x - 1)*(x + 1)*(x + 2)*(x + 4) - 1.62101877788152e-7*x*(x - 5)*(x - 4)*(x - 3)*(x - 2)*(x - 1)*(x + 1)*(x + 2)*(x + 3)*(x + 5) - 0.000347222222222222*(x/5 + 1)*(x - 5)*(x - 4)*(x - 3)*(x - 2)*(x - 1)*(x + 1)*(x + 2)*(x + 3)*(x + 4)\n",
      "\n",
      "Simplifying the Lagrange interpolating polynomial...\n",
      "-2.26244343891403e-5*x**10 - 1.6940658945086e-21*x**9 + 0.00126696832579185*x**8 + 1.0842021724855e-19*x**7 - 0.0244117647058824*x**6 - 1.73472347597681e-18*x**5 + 0.19737556561086*x**4 + 6.93889390390723e-18*x**3 - 0.67420814479638*x**2 - 6.93889390390723e-18*x + 1.0\n"
     ]
    },
    {
     "data": {
      "image/png": "[encoded data removed]",
      "text/plain": [
       "<Figure size 432x288 with 1 Axes>"
      ]
     },
     "metadata": {
      "needs_background": "light"
     },
     "output_type": "display_data"
    }
   ],
   "source": [
    "import matplotlib.pyplot as plt\n",
    "import sympy\n",
    "import numpy as np\n",
    "\n",
    "x = sympy.symbols('x')\n",
    "# Insert data sets, data_y derived from function\n",
    "data_x = np.array([-5,-4,-3,-2,-1,0,1,2,3,4,5])\n",
    "data_y = 1/(1+(data_x*data_x))\n",
    "P = 0\n",
    "\n",
    "# Calculate the Lagrange interpolating polynomial\n",
    "for i in range(len(data_x)):\n",
    "    L = 1\n",
    "    for j in range(len(data_x)):\n",
    "        if i!=j:\n",
    "            L = L * (x-data_x[j])/(data_x[i]-data_x[j])\n",
    "    P += L*data_y[i]\n",
    "print('The Lagrange interpolating polynomial is:')\n",
    "print(P)\n",
    "print('\\nSimplifying the Lagrange interpolating polynomial...')\n",
    "print(sympy.simplify(P))\n",
    "\n",
    "\n",
    "# Plot with matplotlib instead of sympy.plot to also add scatter points\n",
    "# Create a np.linspace and plot the function there\n",
    "lam_P = sympy.lambdify(x,P,modules=['numpy'])\n",
    "x_plot = np.linspace(-5.1,5.1,100)\n",
    "y_plot = lam_P(x_plot)\n",
    "\n",
    "plt.plot(x_plot,y_plot,color='red',label='P(x)')\n",
    "plt.scatter(data_x,data_y,label='Data points')\n",
    "plt.xlabel('x')\n",
    "plt.ylabel('y')\n",
    "plt.title('Interpolating Lagrange polynomial')\n",
    "plt.legend()\n",
    "plt.grid()"
   ]
  },
  {
   "cell_type": "markdown",
   "metadata": {},
   "source": [
    "## Conclusion\n",
    "\n",
    "The code used above can be used to calculate any Lagrange Interpolating Polynomial, given an initial set of data.\n",
    "\n",
    "# Exercise 4\n",
    "\n",
    "## Problem Statement\n",
    "\n",
    "Use Newton-Gregory formula to calculate an interpolating polynomial going through the following equidistant points. Plot your result.\n",
    "\n",
    "|  **x**  |  **f(x)** |\n",
    "|:---:|:-----:|\n",
    "| 0.2 | 0.185 |\n",
    "| 0.3 | 0.106 |\n",
    "| 0.4 | 0.093 |\n",
    "| 0.5 |  0.24 |\n",
    "| 0.6 | 0.579 |\n",
    "| 0.7 | 0.561 |\n",
    "\n",
    "## Solution\n",
    "\n",
    "For equally spaced points (equidistant), we can use the **Newton-Gregory** formula to calculate an interpolating polynomial through the points:\n",
    "\n",
    "$$\n",
    "\\begin{split}\n",
    "P_{n}(x)=f_{0}+\\binom{s}{1}\\Delta f_{0}+\\binom{s}{2}\\Delta^{2} f_{0}+...+\\binom{s}{n}\\Delta^{n} f_{0}\n",
    "\\end{split}\n",
    "$$\n",
    "\n",
    "Where $\\Delta f$ are the differences which are usually computed inside a difference table, and s is:\n",
    "\n",
    "$$\n",
    "\\begin{split}\n",
    "x=x_{0}+sh\n",
    "\\Rightarrow s=\\frac{x-x_{0}}{h}\n",
    "\\end{split}\n",
    "$$\n",
    "\n",
    "where $h$ is the distance between the equally spaced points."
   ]
  },
  {
   "cell_type": "code",
   "execution_count": 15,
   "metadata": {},
   "outputs": [
    {
     "name": "stdout",
     "output_type": "stream",
     "text": [
      "Using the Newton-Gregory formula to find polynomial...\n",
      "\n",
      "The difference table is:\n",
      "[[ 0.185 -0.079  0.066  0.094 -0.062 -0.519]\n",
      " [ 0.106 -0.013  0.16   0.032 -0.581  0.   ]\n",
      " [ 0.093  0.147  0.192 -0.549  0.     0.   ]\n",
      " [ 0.24   0.339 -0.357  0.     0.     0.   ]\n",
      " [ 0.579 -0.018  0.     0.     0.     0.   ]\n",
      " [ 0.561  0.     0.     0.     0.     0.   ]]\n",
      "\n",
      "The interpolating polynomial is:\n",
      "-432.5*x**5 + 839.166666666667*x**4 - 618.541666666667*x**3 + 221.708333333333*x**2 - 39.5413333333333*x + 2.969\n"
     ]
    },
    {
     "data": {
      "image/png": "[encoded data removed]",
      "text/plain": [
       "<Figure size 432x288 with 1 Axes>"
      ]
     },
     "metadata": {
      "needs_background": "light"
     },
     "output_type": "display_data"
    }
   ],
   "source": [
    "import matplotlib.pyplot as plt\n",
    "import sympy\n",
    "import numpy as np\n",
    "import math\n",
    "\n",
    "x = sympy.symbols('x')\n",
    "\n",
    "data_x = np.array([0.2,0.3,0.4,0.5,0.6,0.7])\n",
    "data_y = np.array([0.185,0.106,0.093,0.24,0.579,0.561])\n",
    "n = len(data_x)\n",
    "\n",
    "# Equidistant check\n",
    "for i in range(0,n-3):\n",
    "    h = data_x[1] - data_x[0]\n",
    "    if (h - data_x[i+2] - data_x[i+1] > pow(10,-9)):\n",
    "        # Condition above is avoiding floating point arithmetic issues\n",
    "        print('Warning: Input data are not equally spaced!')\n",
    "        break\n",
    "s = (x-data_x[0])/h\n",
    "\n",
    "# Initialize dif_table and add f(x) to first column:\n",
    "dif_table = np.zeros((n,n))\n",
    "for i in range(n):\n",
    "    dif_table[i,0] = data_y[i]\n",
    "\n",
    "for i in range(1,n):\n",
    "    for j in range(0,n-i):\n",
    "        dif_table[j,i] = dif_table[j+1,i-1] - dif_table[j,i-1]\n",
    "\n",
    "print('Using the Newton-Gregory formula to find polynomial...\\n')\n",
    "print('The difference table is:')\n",
    "print(dif_table)\n",
    "\n",
    "# Compute Newton-Gregory polynomial\n",
    "\n",
    "P = data_y[0]\n",
    "temp_s = 1\n",
    "for i in range(n-1):\n",
    "    if i==0:\n",
    "        P = data_y[0]\n",
    "        temp_s = 1\n",
    "        temp_s *= (s-i)\n",
    "        P += dif_table[0,i+1]*temp_s/math.factorial(i)\n",
    "    else:\n",
    "        temp_s *= (s-i)\n",
    "        P += dif_table[0,i+1]*temp_s/math.factorial(i+1)\n",
    "\n",
    "print('\\nThe interpolating polynomial is:')\n",
    "print(sympy.simplify(P))\n",
    "\n",
    "\n",
    "lam_P = sympy.lambdify(x,P,modules=['numpy'])\n",
    "x_plot = np.linspace(0.1,0.75,100)\n",
    "y_plot = lam_P(x_plot)\n",
    "\n",
    "plt.plot(x_plot,y_plot,color='red',label='P(x)')\n",
    "plt.scatter(data_x,data_y,label='Data points')\n",
    "plt.xlabel('x')\n",
    "plt.ylabel('y')\n",
    "plt.title('Interpolating polynomial based on Gregory-Newton Method')\n",
    "plt.legend()\n",
    "plt.grid()"
   ]
  }
 ],
 "metadata": {
  "kernelspec": {
   "display_name": "Python 3",
   "language": "python",
   "name": "python3"
  },
  "language_info": {
   "codemirror_mode": {
    "name": "ipython",
    "version": 3
   },
   "file_extension": ".py",
   "mimetype": "text/x-python",
   "name": "python",
   "nbconvert_exporter": "python",
   "pygments_lexer": "ipython3",
   "version": "3.7.8"
  }
 },
 "nbformat": 4,
 "nbformat_minor": 4
}
