{
 "cells": [
  {
   "cell_type": "markdown",
   "metadata": {},
   "source": [
    "## Computational Mathematics (ΥΦΥ101)\n",
    "### Problem Set #1\n",
    "### Implemented by Anastasios-Faidon Retselis (AEM: 4394)\n",
    "\n",
    "## Excercise 1\n",
    "\n",
    "**Problem Statement:**\n",
    "\n",
    "Find the root to the following equations:\n",
    "\n",
    "$$\n",
    "\\begin{aligned}\n",
    "(a) &\\;\\; e^{x} - 2x\\cos(x)-3=0, \\; x\\in (0,2) \\\\\n",
    "(b) &\\;\\; x^{2} + \\sin(x)+e^{x}-2=0, \\; x\\in (0,1)\n",
    "\\end{aligned}\n",
    "$$\n",
    "\n",
    "using the methods of bisection and Newton-Raphson. Compare the methods by computing the number of iterations needed to achieve accuracy of 5 significant digits."
   ]
  },
  {
   "cell_type": "markdown",
   "metadata": {},
   "source": [
    "Let us first import the necessary packages to solve this exercise using Python:"
   ]
  },
  {
   "cell_type": "code",
   "execution_count": 1,
   "metadata": {},
   "outputs": [],
   "source": [
    "import math\n",
    "import numpy as np\n",
    "import matplotlib.pyplot as plt"
   ]
  },
  {
   "cell_type": "markdown",
   "metadata": {},
   "source": [
    "## Solution for (a)\n",
    "\n",
    "$$\n",
    "\\begin{aligned}\n",
    "(a) &\\;\\; e^{x} - 2x\\cos(x)-3=0, \\; x\\in (0,2)\n",
    "\\end{aligned}\n",
    "$$\n",
    "\n",
    "Let's first examine the bi-section method. We are interested in also documenting the number of iterations required to achieve an accuracy of 5 significant digits. We will therefore use the **Scarborough criterion**, computing it in the beginning of our code and then calculating the approximate error of each iteration. We will meet the criterion once the approximater error is below the error given by the Scarborough formula."
   ]
  },
  {
   "cell_type": "code",
   "execution_count": 2,
   "metadata": {},
   "outputs": [
    {
     "name": "stdout",
     "output_type": "stream",
     "text": [
      "Root found (after 19 iterations)! x_root = 1.30463\n"
     ]
    }
   ],
   "source": [
    "# Bi-section method\n",
    "\n",
    "x_lower = 0\n",
    "x_upper = 2\n",
    "n = 5 # Number of significant digits to be computed\n",
    "es = 0.5*pow(10, (2-n))\n",
    "ea = 100\n",
    "repetitions = 0\n",
    "value_prev = 100\n",
    "\n",
    "bisec_iter_list = []\n",
    "bisec_value_list = []\n",
    "\n",
    "f = lambda x : math.exp(x)-(2*x*math.cos(x))-3\n",
    "\n",
    "while ea>es:\n",
    "    xr = (x_lower+x_upper)/2\n",
    "    repetitions = repetitions + 1\n",
    "    if f(x_lower)*f(xr)<0:\n",
    "        x_upper = xr\n",
    "        value = xr\n",
    "    elif f(x_upper)*f(xr)<0:\n",
    "        x_lower = xr\n",
    "        value = xr\n",
    "    ea = math.fabs((value-value_prev)*100/value)\n",
    "    value_prev = xr\n",
    "    bisec_iter_list.append(repetitions)\n",
    "    bisec_value_list.append(xr)\n",
    "    \n",
    "print('Root found (after %d iterations)! x_root = %.5f' % (repetitions, xr))"
   ]
  },
  {
   "cell_type": "markdown",
   "metadata": {},
   "source": [
    "We can also plot the results to see how the method approaches the desired accuracy:"
   ]
  },
  {
   "cell_type": "code",
   "execution_count": 3,
   "metadata": {},
   "outputs": [
    {
     "data": {
      "image/png": "[encoded data removed]",
      "text/plain": [
       "<Figure size 432x288 with 2 Axes>"
      ]
     },
     "metadata": {
      "needs_background": "light"
     },
     "output_type": "display_data"
    }
   ],
   "source": [
    "# Plot bisection method results\n",
    "\n",
    "plt.subplot(2,1,1)\n",
    "plt.title('Bisection method results')\n",
    "plt.scatter(bisec_iter_list,bisec_value_list)\n",
    "axes = plt.gca()\n",
    "axes.set_ylabel('Root estimate, x_i')\n",
    "plt.grid()\n",
    "plt.subplot(2,1,2)\n",
    "plt.scatter(bisec_iter_list[-4:],bisec_value_list[-4:])\n",
    "plt.axhline(y=1.30463,color='r')\n",
    "axes = plt.gca()\n",
    "axes.set_ylim([1.3046,1.3047])\n",
    "axes.set_ylabel('Root estimate, x_i')\n",
    "axes.set_xlabel('Iteration number, i')\n",
    "axes.ticklabel_format(useOffset=False)\n",
    "plt.grid()"
   ]
  },
  {
   "cell_type": "markdown",
   "metadata": {},
   "source": [
    "\n",
    "Let's now examine the Newton-Raphson Method. We will again use the **Scarborough criterion** as the stopping condition, computing it in the beginning of our code and then calculating the approximate error of each iteration. We will stop the calculation once the approximate error is below the error given by the Scarborough formula. For the Newton-Raphson Method, we also have to calculate the derivative of the function. Let's assume:\n",
    "\n",
    "$$\n",
    "\\begin{aligned}\n",
    "&f(x)=e^{x} - 2x\\cos(x)-3 \\\\\n",
    "\\end{aligned}\n",
    "$$\n",
    "\n",
    "the derivative of $f(x)$ is:\n",
    "\n",
    "$$\n",
    "\\begin{aligned}\n",
    "&f'(x)=e^{x} - 2x\\cos(x)+2x\\sin(x) \\\\\n",
    "\\end{aligned}\n",
    "$$"
   ]
  },
  {
   "cell_type": "code",
   "execution_count": 4,
   "metadata": {},
   "outputs": [
    {
     "name": "stdout",
     "output_type": "stream",
     "text": [
      "Root found (after 5 iterations)! x_root = 1.30463\n"
     ]
    }
   ],
   "source": [
    "# Newton-Raphson method\n",
    "\n",
    "x0 = 1\n",
    "n = 5 # Number of significant digits to be computed\n",
    "es = 0.5*pow(10, (2-n))\n",
    "ea = 100\n",
    "repetitions = 0\n",
    "x_prev = x0\n",
    "\n",
    "newton_iter_list = []\n",
    "newton_value_list = []\n",
    "\n",
    "f = lambda x : math.exp(x)-(2*x*math.cos(x))-3\n",
    "fdot = lambda x : math.exp(x)+2*(x*math.sin(x)-math.cos(x))\n",
    "\n",
    "while ea>es:\n",
    "    x_next = x_prev - (f(x_prev)/fdot(x_prev))\n",
    "    ea = math.fabs((x_next-x_prev)*100/x_next)\n",
    "    repetitions = repetitions + 1\n",
    "    x_prev = x_next\n",
    "    newton_iter_list.append(repetitions)\n",
    "    newton_value_list.append(x_next)\n",
    "    \n",
    "print('Root found (after %d iterations)! x_root = %.5f' % (repetitions, x_next))"
   ]
  },
  {
   "cell_type": "markdown",
   "metadata": {},
   "source": [
    "Let's again plot the results to see how the method approaches the desired accuracy:"
   ]
  },
  {
   "cell_type": "code",
   "execution_count": 5,
   "metadata": {},
   "outputs": [
    {
     "data": {
      "image/png": "[encoded data removed]",
      "text/plain": [
       "<Figure size 432x288 with 2 Axes>"
      ]
     },
     "metadata": {
      "needs_background": "light"
     },
     "output_type": "display_data"
    }
   ],
   "source": [
    "# Plot Newton-Raphson method results\n",
    "\n",
    "plt.subplot(2,1,1)\n",
    "plt.title('Newton-Raphson method results')\n",
    "plt.scatter(newton_iter_list,newton_value_list)\n",
    "axes = plt.gca()\n",
    "axes.set_ylabel('Root estimate, x_i')\n",
    "plt.grid()\n",
    "plt.subplot(2,1,2)\n",
    "plt.scatter(newton_iter_list[-4:],newton_value_list[-4:])\n",
    "plt.axhline(y=1.30463,color='r')\n",
    "axes = plt.gca()\n",
    "axes.set_ylim([1.3046,1.30468])\n",
    "axes.set_ylabel('Root estimate, x_i')\n",
    "axes.set_xlabel('Iteration number, i')\n",
    "axes.ticklabel_format(useOffset=False)\n",
    "plt.grid()"
   ]
  },
  {
   "cell_type": "markdown",
   "metadata": {},
   "source": [
    "Looking at the results we can assume that the Newton-Raphson Method performs better the bisection method used above. However, let's not forget that we used assumed a value of $x_{0}=1$ for the Newton-Raphson method, while we used the entire interval values $x_{lower}=0$ and $x_{upper}=2$ for the bisection method. It would be interesting to see if there are worse case scenarios for the Newton-Raphson method, for which we wouuld have to perform more iterations.\n",
    "\n",
    "We can re-run the Newton-Raphson method starting from $x_{0}=1$ moving up towards to $x_{0}=2$ with a step of $step=0.1$. For each step we will ask for the number of iterations to achieve the requested accuracy, in order to ultimately obtain the maximum possible number of iterations for this scenario. We will also provide the minimum amount of iterations needed (although this is not a \"fair\" comparison)."
   ]
  },
  {
   "cell_type": "code",
   "execution_count": 6,
   "metadata": {},
   "outputs": [
    {
     "name": "stdout",
     "output_type": "stream",
     "text": [
      "Max iterations needed to find root is for initial value x_0 = 0.00 (14 iterations)!\n",
      "Min iterations needed to find root is for initial value x_0 = 1.30 (3 iterations)!\n"
     ]
    }
   ],
   "source": [
    "# Newton-Raphson method (step increasing - max/min_iterations finder)\n",
    "\n",
    "x_lower = 0\n",
    "x_upper = 2\n",
    "step_size = 0.1\n",
    "max_iterations = 0\n",
    "min_iterations = 100\n",
    "n = 5 # Number of significant digits to be computed\n",
    "es = 0.5*pow(10, (2-n))\n",
    "\n",
    "f = lambda x : math.exp(x)-(2*x*math.cos(x))-3\n",
    "fdot = lambda x : math.exp(x)+2*(x*math.sin(x)-math.cos(x))\n",
    "\n",
    "for i in np.arange(x_lower, x_upper, step_size):\n",
    "    repetitions = 0\n",
    "    x_prev = i\n",
    "    ea = 100\n",
    "    while ea>es:\n",
    "        repetitions = repetitions + 1\n",
    "        x_next = x_prev - (f(x_prev)/fdot(x_prev))\n",
    "        ea = math.fabs((x_next-x_prev)*100/x_next)\n",
    "        x_prev = x_next\n",
    "    if repetitions > max_iterations:\n",
    "        max_iterations = repetitions\n",
    "        max_iterations_initial = i\n",
    "    elif repetitions < min_iterations:\n",
    "        min_iterations = repetitions\n",
    "        min_iterations_initial = i\n",
    "        \n",
    "print('Max iterations needed to find root is for initial value x_0 = %.2f (%d iterations)!' % (max_iterations_initial, max_iterations))\n",
    "print('Min iterations needed to find root is for initial value x_0 = %.2f (%d iterations)!' % (min_iterations_initial, min_iterations))"
   ]
  },
  {
   "cell_type": "markdown",
   "metadata": {},
   "source": [
    "Based on this result it is evident that for this specific example, the **Newton-Raphson** method outperforms the bi-section method, with the worst case scenario requiring 4 less iterations than the bisection method to achieve the requested accuracy. "
   ]
  },
  {
   "cell_type": "markdown",
   "metadata": {},
   "source": [
    "## Solution for (b)\n",
    "\n",
    "$$\n",
    "\\begin{aligned}\n",
    "(b) &\\;\\; x^{2} + \\sin(x)+e^{x}-2=0, \\; x\\in (0,1)\n",
    "\\end{aligned}\n",
    "$$\n",
    "\n",
    "In a similar manner, let's begin with the bisection method and plot the results:"
   ]
  },
  {
   "cell_type": "code",
   "execution_count": 7,
   "metadata": {},
   "outputs": [
    {
     "name": "stdout",
     "output_type": "stream",
     "text": [
      "Root found (after 19 iterations)! x_root = 0.38708\n"
     ]
    }
   ],
   "source": [
    "# Bi-section method\n",
    "\n",
    "x_lower = 0\n",
    "x_upper = 1\n",
    "n = 5 # Number of significant digits to be computed\n",
    "es = 0.5*pow(10, (2-n))\n",
    "ea = 100\n",
    "repetitions = 0\n",
    "value_prev = 100\n",
    "\n",
    "f = lambda x : pow(x,2)+math.sin(x)+math.exp(x)-2\n",
    "\n",
    "while ea>es:\n",
    "    xr = (x_lower+x_upper)/2\n",
    "    repetitions = repetitions + 1\n",
    "    if f(x_lower)*f(xr)<0:\n",
    "        x_upper = xr\n",
    "        value = xr\n",
    "    elif f(x_upper)*f(xr)<0:\n",
    "        x_lower = xr\n",
    "        value = xr\n",
    "    ea = math.fabs((value-value_prev)*100/value)\n",
    "    value_prev = xr\n",
    "    \n",
    "print('Root found (after %d iterations)! x_root = %.5f' % (repetitions, xr))"
   ]
  },
  {
   "cell_type": "markdown",
   "metadata": {},
   "source": [
    "To use the Newton-Raphson method, we have again to calculate the derivative. Let's assume:\n",
    "\n",
    "$$\n",
    "\\begin{aligned}\n",
    "f(x)=x^{2}+ \\sin(x) + e^{x} -2\n",
    "\\end{aligned}\n",
    "$$\n",
    "\n",
    "then the derivative of $f(x)$ is:\n",
    "\n",
    "$$\n",
    "\\begin{aligned}\n",
    "f'(x)=2x+\\cos(x)+e^{x}\n",
    "\\end{aligned}\n",
    "$$\n",
    "\n",
    "And let's also assume that we start from the middle of the interval $(0,1)$, and therefore we have $x_{0}=0.5$. To make the comparison \"fair\" again, we will also determine maximum possible amount of iterations needed if we start from any value inside $(0,1)$ with a $step=0.1$."
   ]
  },
  {
   "cell_type": "code",
   "execution_count": 8,
   "metadata": {},
   "outputs": [
    {
     "name": "stdout",
     "output_type": "stream",
     "text": [
      "Root found (after 4 iterations)! x_root = 0.38708\n"
     ]
    }
   ],
   "source": [
    "# Newton-Raphson method\n",
    "\n",
    "x0 = 0.5\n",
    "n = 5 # Number of significant digits to be computed\n",
    "es = 0.5*pow(10, (2-n))\n",
    "ea = 100\n",
    "repetitions = 0\n",
    "x_prev = x0\n",
    "\n",
    "f = lambda x : pow(x,2)+math.sin(x)+math.exp(x)-2\n",
    "fdot = lambda x : (2*x)+math.cos(x)+math.exp(x)\n",
    "\n",
    "while ea>es:\n",
    "    x_next = x_prev - (f(x_prev)/fdot(x_prev))\n",
    "    ea = math.fabs((x_next-x_prev)*100/x_next)\n",
    "    repetitions = repetitions + 1\n",
    "    x_prev = x_next\n",
    "    \n",
    "print('Root found (after %d iterations)! x_root = %.5f' % (repetitions, x_next))"
   ]
  },
  {
   "cell_type": "code",
   "execution_count": 9,
   "metadata": {},
   "outputs": [
    {
     "name": "stdout",
     "output_type": "stream",
     "text": [
      "Max iterations needed to find root is for initial value x_0 = 1.70 (6 iterations)!\n",
      "Min iterations needed to find root is for initial value x_0 = 0.40 (3 iterations)!\n"
     ]
    }
   ],
   "source": [
    "# Newton-Raphson method (step increasing - max/min_iterations finder)\n",
    "\n",
    "x_lower = 0\n",
    "x_upper = 2\n",
    "step_size = 0.1\n",
    "max_iterations = 0\n",
    "min_iterations = 100\n",
    "n = 5 # Number of significant digits to be computed\n",
    "es = 0.5*pow(10, (2-n))\n",
    "\n",
    "f = lambda x : pow(x,2)+math.sin(x)+math.exp(x)-2\n",
    "fdot = lambda x : (2*x)+math.cos(x)+math.exp(x)\n",
    "\n",
    "for i in np.arange(x_lower, x_upper, step_size):\n",
    "    repetitions = 0\n",
    "    x_prev = i\n",
    "    ea = 100\n",
    "    while ea>es:\n",
    "        repetitions = repetitions + 1\n",
    "        x_next = x_prev - (f(x_prev)/fdot(x_prev))\n",
    "        ea = math.fabs((x_next-x_prev)*100/x_next)\n",
    "        x_prev = x_next\n",
    "    if repetitions > max_iterations:\n",
    "        max_iterations = repetitions\n",
    "        max_iterations_initial = i\n",
    "    elif repetitions < min_iterations:\n",
    "        min_iterations = repetitions\n",
    "        min_iterations_initial = i\n",
    "        \n",
    "print('Max iterations needed to find root is for initial value x_0 = %.2f (%d iterations)!' % (max_iterations_initial, max_iterations))\n",
    "print('Min iterations needed to find root is for initial value x_0 = %.2f (%d iterations)!' % (min_iterations_initial, min_iterations))"
   ]
  },
  {
   "cell_type": "markdown",
   "metadata": {},
   "source": [
    "## Conclusion\n",
    "\n",
    "For both functions used in (a) and (b), we can clearly see that the Newton-Raphson method outperforms the bisection method."
   ]
  }
 ],
 "metadata": {
  "kernelspec": {
   "display_name": "Python 3",
   "language": "python",
   "name": "python3"
  },
  "language_info": {
   "codemirror_mode": {
    "name": "ipython",
    "version": 3
   },
   "file_extension": ".py",
   "mimetype": "text/x-python",
   "name": "python",
   "nbconvert_exporter": "python",
   "pygments_lexer": "ipython3",
   "version": "3.7.8"
  }
 },
 "nbformat": 4,
 "nbformat_minor": 4
}
