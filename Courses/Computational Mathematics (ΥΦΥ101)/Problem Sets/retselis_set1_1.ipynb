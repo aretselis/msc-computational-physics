{
 "cells": [
  {
   "cell_type": "markdown",
   "metadata": {},
   "source": [
    "## (Computational Mathematics (ΥΦΥ101)\n",
    "### Problem Set #1\n",
    "### Implemented by Anastasios Faidon Retselis\n",
    "\n",
    "# Excercise 1\n",
    "\n",
    "**Problem Statement:**\n",
    "\n",
    "Find the root to the following equations:\n",
    "\n",
    "$$\n",
    "\\begin{aligned}\n",
    "(a) &\\;\\; e^{x} - 2x\\cos(x)-3=0, \\; x\\in (0,2) \\\\\n",
    "(b) &\\;\\; x^{2} + \\sin(x)+e^{x}-2=0, \\; x\\in (0,1)\n",
    "\\end{aligned}\n",
    "$$\n",
    "\n",
    "using the methods of bisection and Newton-Raphson. Compare the methods by computing the number of iterations needed to achieve accuracy of 5 significant digits."
   ]
  },
  {
   "cell_type": "code",
   "execution_count": null,
   "metadata": {},
   "outputs": [],
   "source": []
  }
 ],
 "metadata": {
  "kernelspec": {
   "display_name": "Python 3",
   "language": "python",
   "name": "python3"
  },
  "language_info": {
   "codemirror_mode": {
    "name": "ipython",
    "version": 3
   },
   "file_extension": ".py",
   "mimetype": "text/x-python",
   "name": "python",
   "nbconvert_exporter": "python",
   "pygments_lexer": "ipython3",
   "version": "3.7.8"
  }
 },
 "nbformat": 4,
 "nbformat_minor": 4
}
