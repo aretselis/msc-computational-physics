{
 "cells": [
  {
   "cell_type": "markdown",
   "metadata": {},
   "source": [
    "## Computational Mathematics (ΥΦΥ101)\n",
    "### Problem Set #1\n",
    "### Implemented by Anastasios Faidon Retselis\n",
    "\n",
    "# Excercise 1\n",
    "\n",
    "**Problem Statement:**\n",
    "\n",
    "Find the root to the following equations:\n",
    "\n",
    "$$\n",
    "\\begin{aligned}\n",
    "(a) &\\;\\; e^{x} - 2x\\cos(x)-3=0, \\; x\\in (0,2) \\\\\n",
    "(b) &\\;\\; x^{2} + \\sin(x)+e^{x}-2=0, \\; x\\in (0,1)\n",
    "\\end{aligned}\n",
    "$$\n",
    "\n",
    "using the methods of bisection and Newton-Raphson. Compare the methods by computing the number of iterations needed to achieve accuracy of 5 significant digits."
   ]
  },
  {
   "cell_type": "markdown",
   "metadata": {},
   "source": [
    "Let us first import the necessary packages to solve this exercise using Python:"
   ]
  },
  {
   "cell_type": "code",
   "execution_count": 1,
   "metadata": {},
   "outputs": [],
   "source": [
    "import math"
   ]
  },
  {
   "cell_type": "markdown",
   "metadata": {},
   "source": [
    "## Solution for (a)\n",
    "\n",
    "\n",
    "Let's first examine the bi-section method. We are interested in also documenting the number of iterations required to achieve an accuracy of 5 significant digits. We will therefore use the **Scarborough criterion**, computing it in the beginning of our code and then calculating the approximate error of each iteration. We will meet the criterion once the approximater error is below the error given by the Scarborough formula."
   ]
  },
  {
   "cell_type": "code",
   "execution_count": 2,
   "metadata": {},
   "outputs": [
    {
     "name": "stdout",
     "output_type": "stream",
     "text": [
      "Root found (after 19 iterations)! x_root = 1.30463\n"
     ]
    }
   ],
   "source": [
    "# Bi-section method\n",
    "\n",
    "x_lower = 0\n",
    "x_upper = 2\n",
    "n = 5 # Number of significant digits to be computed\n",
    "xr = (x_lower+x_upper)/2\n",
    "es = 0.5*pow(10, (2-n))\n",
    "ea = 100\n",
    "repetitions = 0\n",
    "value_prev = 100\n",
    "\n",
    "f = lambda x : math.exp(x)-(2*x*math.cos(x))-3\n",
    "\n",
    "while ea>es:\n",
    "    repetitions = repetitions + 1\n",
    "    if f(x_lower)*f(xr)<0:\n",
    "        x_upper = xr\n",
    "        value = xr\n",
    "    elif f(x_upper)*f(xr)<0:\n",
    "        x_lower = xr\n",
    "        value = xr\n",
    "    ea = math.fabs((value-value_prev)*100/value)\n",
    "    value_prev = xr\n",
    "    xr = (x_lower+x_upper)/2\n",
    "    \n",
    "print('Root found (after %d iterations)! x_root = %.5f' % (repetitions, xr))\n",
    "    "
   ]
  },
  {
   "cell_type": "markdown",
   "metadata": {},
   "source": [
    "\n",
    "Let's now examine the Newton-Raphson Method. We will again use the **Scarborough criterion** as the stopping condition, computing it in the beginning of our code and then calculating the approximate error of each iteration. We will stop the calculation once the approximate error is below the error given by the Scarborough formula. For the Newton-Raphson Method, we also have to calculate the derivative of the function. Let's assume:\n",
    "\n",
    "$$\n",
    "\\begin{aligned}\n",
    "&f(x)=e^{x} - 2x\\cos(x)-3 \\\\\n",
    "\\end{aligned}\n",
    "$$\n",
    "\n",
    "the derivative of $f(x)$ is:\n",
    "\n",
    "$$\n",
    "\\begin{aligned}\n",
    "&f'(x)=e^{x} - 2\\cos(x)+2x\\sin(x) \\\\\n",
    "\\end{aligned}\n",
    "$$"
   ]
  },
  {
   "cell_type": "code",
   "execution_count": 3,
   "metadata": {},
   "outputs": [
    {
     "name": "stdout",
     "output_type": "stream",
     "text": [
      "Root found (after 5 iterations)! x_root = 1.30463\n"
     ]
    }
   ],
   "source": [
    "# Newton-Raphson method\n",
    "\n",
    "x0 = 1\n",
    "n = 5 # Number of significant digits to be computed\n",
    "es = 0.5*pow(10, (2-n))\n",
    "ea = 100\n",
    "repetitions = 0\n",
    "x_prev = x0\n",
    "\n",
    "f = lambda x : math.exp(x)-(2*x*math.cos(x))-3\n",
    "fdot = lambda x : math.exp(x)+2*(x*math.sin(x)-math.cos(x))\n",
    "\n",
    "while ea>es:\n",
    "    repetitions = repetitions + 1\n",
    "    x_next = x_prev - (f(x_prev)/fdot(x_prev))\n",
    "    ea = math.fabs((x_next-x_prev)*100/x_next)\n",
    "    x_prev = x_next\n",
    "    \n",
    "print('Root found (after %d iterations)! x_root = %.5f' % (repetitions, x_next))"
   ]
  },
  {
   "cell_type": "markdown",
   "metadata": {},
   "source": [
    "It is evident that the Newton-Raphson Method outperforms the bisection method used above. However, let's not forget that we used assumed a value of $x_{0}=1$ for the Newton-Raphson method, while we used the entire interval values $x_{lower}=0$ and $x_{upper}=2$ for the bisection method. It would be interesting to see if there are worse case scenarios for the Newton-Raphson method, for which we wouuld have to perform more iterations."
   ]
  },
  {
   "cell_type": "code",
   "execution_count": null,
   "metadata": {},
   "outputs": [],
   "source": []
  }
 ],
 "metadata": {
  "kernelspec": {
   "display_name": "Python 3",
   "language": "python",
   "name": "python3"
  },
  "language_info": {
   "codemirror_mode": {
    "name": "ipython",
    "version": 3
   },
   "file_extension": ".py",
   "mimetype": "text/x-python",
   "name": "python",
   "nbconvert_exporter": "python",
   "pygments_lexer": "ipython3",
   "version": "3.7.8"
  }
 },
 "nbformat": 4,
 "nbformat_minor": 4
}
