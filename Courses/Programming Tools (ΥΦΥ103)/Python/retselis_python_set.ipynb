{
 "cells": [
  {
   "cell_type": "markdown",
   "metadata": {},
   "source": [
    "# Python Problem Set\n",
    "\n",
    "**Programming Tools (ΥΦΥ103)**\n",
    "\n",
    "Implemented by: **Anastasios-Faidon Retselis (AEM: 4394)**\n",
    "\n",
    "# Exercise 1\n",
    "\n",
    "## Problem statement\n",
    "\n",
    "Write a function that will accept as argument one natural number $n > 2$. The function must calculate all prime numbers that belong in $[2,n]$ and return them as a list (either a built-in list, or a numpy list).\n",
    "\n",
    "## Solution \n",
    "\n",
    "The code below consists of two parts:\n",
    "\n",
    "1) The function `primes_list_until_number(n)`\n",
    "   - This is the main function driving the code. It accepts the input natural number n>2 (raising the appropriate errors if the conditions for n are not met) and returns the list based on the problem statement.\n",
    "   \n",
    "2) Demo code\n",
    "   - A demo code to test the function `primes_list_until_number(n)` is provided, it checks for two numbers: 27 and 97 and prints the output of the function."
   ]
  },
  {
   "cell_type": "code",
   "execution_count": 1,
   "metadata": {},
   "outputs": [
    {
     "name": "stdout",
     "output_type": "stream",
     "text": [
      "[2, 3, 5, 7, 11, 13, 17, 19, 23]\n",
      "[2, 3, 5, 7, 11, 13, 17, 19, 23, 29, 31, 37, 41, 43, 47, 53, 59, 61, 67, 71, 73, 79, 83, 89, 97]\n"
     ]
    }
   ],
   "source": [
    "def primes_list_until_number(n):\n",
    "    # Input: n > 2 (integer)\n",
    "    # Output: primes_list, contains all primes until n\n",
    "    primes_list = []\n",
    "\n",
    "    if n <= 2:\n",
    "        raise ValueError('Input number n must be greater than 2')\n",
    "    if not isinstance(n, int):\n",
    "        raise ValueError('Input number n must be a natural number')\n",
    "\n",
    "    for i in range(2, n+1):\n",
    "        check = 1\n",
    "        for j in range(2, i):\n",
    "            if i % j == 0:\n",
    "                check = 0\n",
    "                break\n",
    "        if check == 1:\n",
    "            primes_list.append(i)\n",
    "\n",
    "    return primes_list\n",
    "\n",
    "\n",
    "# Demo code\n",
    "number = 27\n",
    "result = primes_list_until_number(number)\n",
    "print(result)\n",
    "\n",
    "number = 97\n",
    "result = primes_list_until_number(number)\n",
    "print(result)\n"
   ]
  },
  {
   "cell_type": "markdown",
   "metadata": {},
   "source": [
    "# Exercise 2\n",
    "\n",
    "## Problem statement\n",
    "\n",
    "The equation $x^{2}-1+ln(x+1)=0$ has a unique real root in $[0, 1]$. Write a script that will implement the Newton-Raphson method in order approximate that root with an accuracy criterion of $|x_{k+1}-x_{k}|<10^{-4}$. Plot the function $f(x)=x^{2}-1+ln(x+1)$ in $[0, 1]$ with matplotlib.\n",
    "\n",
    "## Solution \n",
    "\n",
    "We will use the Newton-Raphson method to solve the equation $x^{2}-1+ln(x+1)=0$, which is in the form of $f(x)=0$. We can calculate the derivative as:\n",
    "\n",
    "$$\n",
    "\\begin{split}\n",
    "   f'(x) = 2x+\\frac{1}{x+1}\n",
    "\\end{split}\n",
    "$$\n",
    "\n",
    "We are ready to input $f(x)$ and $f'(x)$ as `lambda` functions and solve the equation using the Newton-Raphson method in the given interval. The stopping condition is the one specified above, namely $|x_{k+1}-x_{k}|<10^{-4}$. The code will output the root and number of iterations required to reach this root. It will also plot the function $f(x)$ in the interval $[0,1]$ using the `matplotlib` package."
   ]
  },
  {
   "cell_type": "code",
   "execution_count": 2,
   "metadata": {},
   "outputs": [
    {
     "name": "stdout",
     "output_type": "stream",
     "text": [
      "Newton-Raphson Method:\n",
      "Root found (after 4 iterations)! x_root = 0.68958\n"
     ]
    },
    {
     "data": {
      "image/png": "[encoded data removed]",
      "text/plain": [
       "<Figure size 432x288 with 1 Axes>"
      ]
     },
     "metadata": {
      "needs_background": "light"
     },
     "output_type": "display_data"
    }
   ],
   "source": [
    "import numpy as np\n",
    "import matplotlib.pyplot as plt\n",
    "\n",
    "# Newton-Raphson method\n",
    "\n",
    "# Function Definition\n",
    "f = lambda x: pow(x, 2) - 1 + np.log(x + 1)\n",
    "fdot = lambda x: 2 * x + (1 / (x + 1))\n",
    "\n",
    "# Initial search condition and max iterations definition\n",
    "x0 = 1\n",
    "xr = x0\n",
    "iterations = 0\n",
    "max_iterations = 200\n",
    "\n",
    "# Main Loop\n",
    "while iterations < max_iterations:\n",
    "    xr_old = xr\n",
    "    xr = xr_old - (f(xr_old) / fdot(xr_old))\n",
    "    iterations += 1\n",
    "    if abs(xr - xr_old) < pow(10, -4):\n",
    "        break\n",
    "\n",
    "# Print and Plot Results\n",
    "print('Newton-Raphson Method:')\n",
    "if iterations < max_iterations:\n",
    "    print('Root found (after %d iterations)! x_root = %.5f' % (iterations, xr))\n",
    "else:\n",
    "    print('Max iterations reached without solution!')\n",
    "\n",
    "x_plot = np.linspace(0, 1, 100)\n",
    "y_plot = f(x_plot)\n",
    "\n",
    "plt.figure()\n",
    "plt.plot(x_plot, y_plot, label=r'$f(x)$')\n",
    "plt.title(r'Plot of $f(x)=x^{2}-1+ln(x+1)$')\n",
    "plt.xlabel('x')\n",
    "plt.ylabel('y')\n",
    "plt.grid()\n",
    "plt.legend()\n",
    "plt.show()\n"
   ]
  },
  {
   "cell_type": "markdown",
   "metadata": {},
   "source": [
    "# Exercise 3\n",
    "\n",
    "## Problem statement\n",
    "\n",
    "Consider the differential equation $y'(x)=y(x)cos(x+y(x)),\\;y(0)=1$. Write a script that will solve the differential equation with Runge-Kutta 4th order method in the interval $[0, 10]$. Plot the numerical solution with matplotlib.\n",
    "\n",
    "## Solution\n",
    "\n",
    "The code below consists of three main parts:\n",
    "\n",
    "1) The function `runge_kutta_4(x0, y0, xmax, h)`\n",
    "   - This function implements the fourth order Runge Kutta method\n",
    "   - It outputs two lists `xn` and `yn`, which contain the x and y values of the solution at each step run. These lists can be then used to plot the function (provided that the value h is adequate).\n",
    "  \n",
    "2) The function `f(x, y)`\n",
    "   - This function is used to calculate the values of $f(x,y)$, assuming the differential equation is at $y'(x)=f(x,y)$ form.\n",
    "  \n",
    "3) Test code\n",
    "   - This parts defines the initial conditions, step size and search interval. It is also used to plot the two lists which it receives as output from `runge_kutta_4(x0, y0, xmax, h)`"
   ]
  },
  {
   "cell_type": "code",
   "execution_count": 3,
   "metadata": {},
   "outputs": [
    {
     "data": {
      "image/png": "[encoded data removed]",
      "text/plain": [
       "<Figure size 432x288 with 1 Axes>"
      ]
     },
     "metadata": {
      "needs_background": "light"
     },
     "output_type": "display_data"
    }
   ],
   "source": [
    "import math as m\n",
    "import matplotlib.pyplot as plt\n",
    "\n",
    "\n",
    "def runge_kutta_4(x0, y0, xmax, h):\n",
    "    xn = [x0]\n",
    "    yn = [y0]\n",
    "    i = 0\n",
    "    while xn[i] < xmax:\n",
    "        # Calculate k values\n",
    "        k1 = h * f(xn[i], yn[i])\n",
    "        k2 = h * f(xn[i] + (h / 2), yn[i] + (k1 / 2))\n",
    "        k3 = h * f(xn[i] + (h / 2), yn[i] + (k2 / 2))\n",
    "        k4 = h * f(xn[i] + h, yn[i] + k3)\n",
    "        # Compute y value and append to list\n",
    "        yn.append(yn[i] + (1 / 6) * (k1 + 2 * k2 + 2 * k3 + k4))\n",
    "        i += 1\n",
    "        # Compute next x\n",
    "        xn.append(xn[i - 1] + h)\n",
    "    return xn, yn\n",
    "\n",
    "\n",
    "def f(x, y):\n",
    "    # Assuming y'(x)=f(x,y)\n",
    "    # This example uses y'(x)=y(x)*cos(x+y(x))\n",
    "    return y * m.cos(x + y)\n",
    "\n",
    "\n",
    "# Test the implementation:\n",
    "# Define initial conditions, search interval and step size\n",
    "x_0 = 0\n",
    "y_0 = 1\n",
    "interval = [0, 10]\n",
    "step = 0.001\n",
    "# Extract and plot the solution\n",
    "xplot, yplot = runge_kutta_4(x_0, y_0, interval[1], step)\n",
    "plt.plot(xplot, yplot)\n",
    "plt.title('Numerical Solution for y\\'(x)=y(x)cos(x+y(x)) in [0, 10]'\n",
    "          '\\nBased on 4th Order Runge Kutta')\n",
    "plt.xlabel('x')\n",
    "plt.ylabel('y')\n",
    "plt.grid()\n",
    "plt.show()\n"
   ]
  }
 ],
 "metadata": {
  "kernelspec": {
   "display_name": "Python 3",
   "language": "python",
   "name": "python3"
  },
  "language_info": {
   "codemirror_mode": {
    "name": "ipython",
    "version": 3
   },
   "file_extension": ".py",
   "mimetype": "text/x-python",
   "name": "python",
   "nbconvert_exporter": "python",
   "pygments_lexer": "ipython3",
   "version": "3.7.8"
  }
 },
 "nbformat": 4,
 "nbformat_minor": 4
}
