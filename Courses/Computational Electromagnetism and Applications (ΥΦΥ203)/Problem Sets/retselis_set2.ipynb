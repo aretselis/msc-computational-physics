{
 "cells": [
  {
   "cell_type": "markdown",
   "metadata": {},
   "source": [
    "**Problem Set #2**\n",
    "\n",
    "Computational Electromagnetism and Applications (ΥΦΥ203)\n",
    "\n",
    "Implemented by: **Anastasios-Faidon Retselis (AEM: 4394)**\n",
    "\n",
    "# Exercise 2.1\n",
    "\n",
    "Plot the fraction of the numerical to the analytical phase velocity (see slide 4-23 of S. Gedney) as a function of the angle of incidence $\\theta$ for (a) $\\Delta x = \\Delta y = \\lambda/10$ and (b) $ \\Delta x = \\lambda/10,\\; \\Delta y = \\lambda/20$. For both cases, choose the time step to be equal to 90% of the stability limit.\n",
    "\n",
    "## Solution"
   ]
  },
  {
   "cell_type": "code",
   "execution_count": null,
   "metadata": {},
   "outputs": [],
   "source": []
  }
 ],
 "metadata": {
  "kernelspec": {
   "display_name": "Python 3",
   "language": "python",
   "name": "python3"
  },
  "language_info": {
   "codemirror_mode": {
    "name": "ipython",
    "version": 3
   },
   "file_extension": ".py",
   "mimetype": "text/x-python",
   "name": "python",
   "nbconvert_exporter": "python",
   "pygments_lexer": "ipython3",
   "version": "3.7.8"
  },
  "toc-autonumbering": false,
  "toc-showtags": false
 },
 "nbformat": 4,
 "nbformat_minor": 4
}
