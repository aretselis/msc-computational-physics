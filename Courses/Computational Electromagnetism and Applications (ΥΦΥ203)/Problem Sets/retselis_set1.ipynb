{
 "cells": [
  {
   "cell_type": "markdown",
   "metadata": {},
   "source": [
    "# Problem Set #1\n",
    "\n",
    "**Computational Electromagnetism and Applications (ΥΦΥ203)**\n",
    "\n",
    "Implemented by: **Anastasios-Faidon Retselis (AEM: 4394)**\n",
    "\n",
    "## Problem Statement:\n",
    "\n",
    "Η αριθμητική ταχύτητα φάσης στον ελεύθερο χώρο της λύσης της διακριτής μονοδιάστατης κυματικής εξίσωσης δίνεται από τη σχέση:\n",
    "\n",
    "$$\n",
    "v_{p}=\\omega / \\tilde{k}=\\frac{2 \\pi c}{\\cos ^{-1}\\left\\{\\frac{\\Delta x^{2}}{(c \\Delta t)^{2}}[\\cos (\\omega \\Delta t)-1]+1\\right\\}} \\frac{\\Delta x}{\\lambda_{o}}\n",
    "$$\n",
    "\n",
    "Σχεδιάστε τον λόγο της αριθμητικής προς την αναλυτική ταχύτητα φάσης (βλ. διαφάνεια 2-12 του S. Gedney) ως συνάρτηση του λόγου Δx/λ για (α) c Δt =Δx/2 και (β) c Δt = Δx/4."
   ]
  },
  {
   "cell_type": "code",
   "execution_count": 71,
   "metadata": {},
   "outputs": [
    {
     "data": {
      "image/png": "[encoded data removed]",
      "text/plain": [
       "<Figure size 432x288 with 1 Axes>"
      ]
     },
     "metadata": {
      "needs_background": "light"
     },
     "output_type": "display_data"
    }
   ],
   "source": [
    "import numpy as np\n",
    "import matplotlib.pyplot as plt\n",
    "\n",
    "# Case a: cΔt=Δx/2\n",
    "\n",
    "# x_values correspond to Δx/λ_ο\n",
    "x_values = np.linspace(0.00001,0.3,10000)\n",
    "# y_values correspond to v_ph/c\n",
    "\n",
    "# Case a: cΔt=Δx/2\n",
    "y_values = 2*np.pi/(np.arccos(4*(np.cos(np.pi*x_values)-1)+1))*x_values\n",
    "plt.semilogx(x_values, y_values,label=r'$c\\Delta t=\\frac{\\Delta x}{2}$')\n",
    "plt.ylim(0,1.2)\n",
    "\n",
    "# Case b: cΔt=Δx/4\n",
    "y_values = 2*np.pi/(np.arccos(16*(np.cos(np.pi*x_values/2)-1)+1))*x_values\n",
    "plt.semilogx(x_values, y_values,label=r'$c\\Delta t=\\frac{\\Delta x}{4}$')\n",
    "plt.legend()\n",
    "plt.ylim(0.75,1.05)\n",
    "plt.xlabel(r'$\\frac{\\Delta x}{\\lambda_{o}}$')\n",
    "plt.ylabel(r'$\\frac{v_{p}}{c}$')\n",
    "plt.grid()\n",
    "plt.show()"
   ]
  },
  {
   "cell_type": "code",
   "execution_count": null,
   "metadata": {},
   "outputs": [],
   "source": []
  }
 ],
 "metadata": {
  "kernelspec": {
   "display_name": "Python 3",
   "language": "python",
   "name": "python3"
  },
  "language_info": {
   "codemirror_mode": {
    "name": "ipython",
    "version": 3
   },
   "file_extension": ".py",
   "mimetype": "text/x-python",
   "name": "python",
   "nbconvert_exporter": "python",
   "pygments_lexer": "ipython3",
   "version": "3.7.8"
  }
 },
 "nbformat": 4,
 "nbformat_minor": 4
}
