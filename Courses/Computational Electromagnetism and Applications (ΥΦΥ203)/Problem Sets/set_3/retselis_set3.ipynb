{
 "cells": [
  {
   "cell_type": "markdown",
   "metadata": {},
   "source": [
    "**Problem Set #3**\n",
    "\n",
    "Computational Electromagnetism and Applications (ΥΦΥ203)\n",
    "\n",
    "Implemented by: **Anastasios-Faidon Retselis (AEM: 4394)**\n",
    "\n",
    "# Exercise 3.1\n",
    "\n",
    "Write a code that implements the one dimension wave equation using the FDTD methods. Utilize first order Mur boundary conditions for the start and the end of the computational grid. At the left, insert a TFSF interface (Total Field Scattered Field). The wave must propagate to the right and come into contact with a material which extents till the end of the computational grid. The material shall have a relative permittivity \\(\\epsilon_r\\) and electrical conductivity \\(\\sigma\\) (S/m). Utilize a non-uniform grid around the interface of free space and the material. \n",
    "\n",
    "## Part 1\n",
    "\n",
    "### Problem statement \n",
    "\n",
    "Show that the TFSF interface is correct. \n",
    "\n",
    "### Solution\n",
    "\n",
    "The following code is used (Python) for the implementation. It produces an .mp4 movie which can be used to visualize the Electric Field and validate the TFSF interface."
   ]
  },
  {
   "cell_type": "code",
   "execution_count": null,
   "metadata": {},
   "outputs": [],
   "source": []
  }
 ],
 "metadata": {
  "kernelspec": {
   "display_name": "Python 3",
   "language": "python",
   "name": "python3"
  },
  "language_info": {
   "codemirror_mode": {
    "name": "ipython",
    "version": 3
   },
   "file_extension": ".py",
   "mimetype": "text/x-python",
   "name": "python",
   "nbconvert_exporter": "python",
   "pygments_lexer": "ipython3",
   "version": "3.7.8"
  }
 },
 "nbformat": 4,
 "nbformat_minor": 4
}
