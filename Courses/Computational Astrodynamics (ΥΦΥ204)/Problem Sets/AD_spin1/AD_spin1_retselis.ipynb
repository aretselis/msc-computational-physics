{
 "cells": [
  {
   "cell_type": "markdown",
   "metadata": {},
   "source": [
    "**AD_spin1**\n",
    "\n",
    "Computational Astrodynamics (ΥΦΥ204)\n",
    "\n",
    "Implemented by: **Anastasios-Faidon Retselis (AEM: 4394)**\n",
    "\n",
    "# Exercise 1 \n",
    "\n",
    "## Problem statement\n",
    "\n",
    "A satellite with \"asphericity\" $\\epsilon=0.05$ moves in elliptic orbit around a planet ($\\mu=G(m_{p}+m_{s})=1$ with semi-major axis $a=1$, eccentricity $e$ and starting point ($t=0$) at pericenter ($f=0$), i.e. $r_{0}=1-e$, and initial conditions (angles in rad):\n",
    " \n",
    "(1) $\\theta_{0} = 0.1, \\: \\dot{\\theta}}_{0}=1.0$\n",
    "(2) $\\theta_{0} = 1.57, \\: \\dot{\\theta}}_{0}=1.0$\n",
    "\n",
    "Plot the angle $\\psi(t)=f(t)-\\theta(t)$ using the above initial conditions and considering $e=0$ and $e=0.3$ (integration time $0<"
   ]
  }
 ],
 "metadata": {
  "kernelspec": {
   "display_name": "Python 3",
   "language": "python",
   "name": "python3"
  },
  "language_info": {
   "codemirror_mode": {
    "name": "ipython",
    "version": 3
   },
   "file_extension": ".py",
   "mimetype": "text/x-python",
   "name": "python",
   "nbconvert_exporter": "python",
   "pygments_lexer": "ipython3",
   "version": "3.7.8"
  }
 },
 "nbformat": 4,
 "nbformat_minor": 4
}
