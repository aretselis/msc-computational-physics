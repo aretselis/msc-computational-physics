{
 "cells": [
  {
   "cell_type": "markdown",
   "metadata": {},
   "source": [
    "**Problem Set #1**\n",
    "\n",
    "Computational Astrodynamics (ΥΦΥ204)\n",
    "\n",
    "Implemented by: **Anastasios-Faidon Retselis (AEM: 4394)**\n",
    "\n",
    "# Exercise 1.1\n",
    "\n",
    "Let us first study the Molniya orbit as defined by the problem statement. We are given the inclination ($i=63.4^{\\circ}$) and the eccentricity ($e=0.64$). Using the pre-defined period of the orbit ($T=12\\: hours=43200\\:seconds$), we can derive the semi-major axis of the orbit using Kepler's third law:\n",
    "\n",
    "$$ \n",
    "\\begin{split}\n",
    "T^{2} &=\\frac{4 \\pi^{2}}{\\mu} a^{3} \\\\\n",
    "\\Rightarrow a^{3} &=\\frac{T^{2}\\mu}{4\\pi^{2}} \\\\ \n",
    "\\Rightarrow a^{3} &=\\frac{T^{2}G(M_{earth}+M_{satellite})}{4\\pi^{2}} \\\\\n",
    "\\Rightarrow a^{3} &\\approx \\frac{T^{2}G(M_{earth})}{4\\pi^{2}}\n",
    "\\end{split}\n",
    "$$\n",
    "\n",
    "and using the values $G=6.6743\\times10^{-11} \\frac{kg m^{3}}{s^{2}kg^{2}}$ and $M_{earth}=5.977\\times10^{24}kg$ we get:\n",
    "\n",
    "$$\n",
    "\\begin{split}\n",
    "a &= 26617396\\:m \\\\\n",
    "\\Rightarrow a &= 26617.396\\:km\n",
    "\\end{split}\n",
    "$$\n",
    "\n",
    "Considering that for $t=\\tau=0$ the line of the nodes coincides with OY axis of the ICRF reference frame and that the apogee of the orbit points towards the first point of aries (point $\\gamma$), we can determine that $\\Omega=270^{\\circ}$ and $\\omega=270^{\\circ}$. If we also take into account that for $t=\\tau=0$ the satellite finds itself at the perigee of the orbit, we can also determine that the mean anomaly is $M_{initial}=0$. We also note that the mean anomaly is given by the following equation:\n",
    "\n",
    "$$\n",
    "\\begin{split}\n",
    "M &= n(t-\\tau) \\\\\n",
    "\\Rightarrow Μ &= \\frac{360^{\\circ}}{T}(t-\\tau) \n",
    "\\end{split}\n",
    "$$\n",
    "\n",
    "The orbital elements of the Molniya orbit for $t=\\tau=0$ can be summarized below:\n",
    "\n",
    "|         Orbital Element         |     Value     |\n",
    "|:-------------------------------:|:-------------:|\n",
    "|         Semi-major axis         |  26617396 m   |\n",
    "|           Eccentricity          |     $0.64$    |\n",
    "|           Inclination           |     $63.4$    |\n",
    "| Longitude of the ascending node | $270^{\\circ}$ |\n",
    "|      Argument of pericenter     | $270^{\\circ}$ |\n",
    "|           Mean anomaly          |       0       |"
   ]
  },
  {
   "cell_type": "code",
   "execution_count": null,
   "metadata": {},
   "outputs": [],
   "source": [
    "import numpy as np\n",
    "\n",
    "def cartesian_to_orbital_elements(r_vector, v_vector):\n",
    "    \n",
    "    return()"
   ]
  }
 ],
 "metadata": {
  "kernelspec": {
   "display_name": "Python 3",
   "language": "python",
   "name": "python3"
  },
  "language_info": {
   "codemirror_mode": {
    "name": "ipython",
    "version": 3
   },
   "file_extension": ".py",
   "mimetype": "text/x-python",
   "name": "python",
   "nbconvert_exporter": "python",
   "pygments_lexer": "ipython3",
   "version": "3.7.8"
  }
 },
 "nbformat": 4,
 "nbformat_minor": 4
}
