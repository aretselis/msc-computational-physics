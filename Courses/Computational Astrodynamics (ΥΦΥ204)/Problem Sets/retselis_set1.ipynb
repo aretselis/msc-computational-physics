{
 "cells": [
  {
   "cell_type": "markdown",
   "metadata": {},
   "source": [
    "**Problem Set #1**\n",
    "\n",
    "Computational Astrodynamics (ΥΦΥ204)\n",
    "\n",
    "Implemented by: **Anastasios-Faidon Retselis (AEM: 4394)**\n",
    "\n",
    "# Exercise 1.1\n",
    "\n",
    "Let us first study the Molniya orbit as defined by the problem statement. We are given the inclination ($i=63.4^{\\circ}$) and the eccentricity ($e=0.64$). Using the pre-defined period of the orbit ($T=12\\: hours=43200\\:seconds$), we can derive the semi-major axis of the orbit using Kepler's third law:\n",
    "\n",
    "$$ \n",
    "\\begin{split}\n",
    "T^{2} &=\\frac{4 \\pi^{2}}{\\mu} a^{3} \\\\\n",
    "\\Rightarrow a^{3} &=\\frac{T^{2}\\mu}{4\\pi^{2}} \\\\ \n",
    "\\Rightarrow a^{3} &=\\frac{T^{2}G(M_{earth}+M_{satellite})}{4\\pi^{2}} \\\\\n",
    "\\Rightarrow a^{3} &\\approx \\frac{T^{2}G(M_{earth})}{4\\pi^{2}}\n",
    "\\end{split}\n",
    "$$\n",
    "\n",
    "and using the values $G=6.6743\\times10^{-11} \\frac{kg m^{3}}{s^{2}kg^{2}}$ and $M_{earth}=5.977\\times10^{24}kg$ we get:\n",
    "\n",
    "$$\n",
    "\\begin{split}\n",
    "a &= 26617396\\:m \\\\\n",
    "\\Rightarrow a &= 26617.396\\:km\n",
    "\\end{split}\n",
    "$$"
   ]
  },
  {
   "cell_type": "code",
   "execution_count": null,
   "metadata": {},
   "outputs": [],
   "source": [
    "import numpy as np\n",
    "\n",
    "def cartesian_to_orbital_elements(r_vector, v_vector):\n",
    "    \n",
    "    return()"
   ]
  }
 ],
 "metadata": {
  "kernelspec": {
   "display_name": "Python 3",
   "language": "python",
   "name": "python3"
  },
  "language_info": {
   "codemirror_mode": {
    "name": "ipython",
    "version": 3
   },
   "file_extension": ".py",
   "mimetype": "text/x-python",
   "name": "python",
   "nbconvert_exporter": "python",
   "pygments_lexer": "ipython3",
   "version": "3.7.8"
  }
 },
 "nbformat": 4,
 "nbformat_minor": 4
}
