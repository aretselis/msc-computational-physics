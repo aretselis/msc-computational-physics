{
 "cells": [
  {
   "cell_type": "markdown",
   "metadata": {},
   "source": [
    "Computational Astrodynamics (ΥΦΥ204)\n",
    "\n",
    "Implemented by: **Anastasios-Faidon Retselis (AEM: 4394)**\n",
    "Language: Python\n",
    "\n",
    "# Problem 1\n",
    "\n",
    "A communication satellite was carried into low earth orbit (LEO) at a height of 322 km above the sea.\n",
    "\n",
    "## Exercise 1.1\n",
    "\n",
    "Compute the period of the LEO"
   ]
  },
  {
   "cell_type": "code",
   "execution_count": 1,
   "metadata": {},
   "outputs": [
    {
     "name": "stdout",
     "output_type": "stream",
     "text": [
      "Period = 90.81 minutes\n"
     ]
    }
   ],
   "source": [
    "import numpy as np\n",
    "\n",
    "R_earth = 6371000 # meters\n",
    "G = 6.67*pow(10, -11)\n",
    "M = 5.977 * pow(10, 24)\n",
    "mu = G*M\n",
    "\n",
    "# Exercise 1\n",
    "\n",
    "height = 322000\n",
    "T = 2*np.pi*np.sqrt(pow(R_earth+height, 3)/mu)\n",
    "T = T/60  # Convert to minutes\n",
    "print('Period = %.2f minutes' % T)"
   ]
  },
  {
   "cell_type": "markdown",
   "metadata": {},
   "source": [
    "## Exercise 1.2 \n",
    "\n",
    "Compute the $\\Delta v_{1}$ and $\\Delta v_2$ maneuvers of a Hohmann transfer to a geostatic orbit.\n",
    "\n",
    "The impulses are given by:\n",
    "\n",
    "$$\n",
    "\\Delta v_{1}=v_{P} - v_{c1} \\\\ \n",
    "\\Delta v_{2}=v_{c2} - v_{A} \\\\ \n",
    "$$\n",
    "\n",
    "where\n",
    "\n",
    "$$\n",
    "v_{P}=\\sqrt{\\frac{\\mu}{a} \\frac{1+e}{1-e}} \\\\\n",
    "v_{A}=\\sqrt{\\frac{\\mu}{a} \\frac{1-e}{1+e}}\n",
    "$$\n",
    "\n",
    "and the circular orbit is given by the formula:\n",
    "\n",
    "$$\n",
    "\\Delta v_{c1}=\\sqrt{\\frac{\\mu}{R_{1}}}\n",
    "$$"
   ]
  },
  {
   "cell_type": "code",
   "execution_count": 2,
   "metadata": {},
   "outputs": [
    {
     "name": "stdout",
     "output_type": "stream",
     "text": [
      "Delta_v_1 = 2421.58 m/s\n",
      "Delta_v_2 = 1465.41 m/s\n"
     ]
    }
   ],
   "source": [
    "# Exercise 2\n",
    "\n",
    "R1 = R_earth + height\n",
    "R2 = R_earth + 35786000  # Target Geostatic\n",
    "\n",
    "v_c1 = np.sqrt(mu/R1)\n",
    "v_c2 = np.sqrt(mu/R2)\n",
    "\n",
    "a = (R1+R2)/2\n",
    "e = (R2-R1)/(R2+R1)\n",
    "v_p = np.sqrt((mu/a)*((1+e)/(1-e)))\n",
    "v_a = np.sqrt((mu/a)*((1-e)/(1+e)))\n",
    "\n",
    "Delta_v_1 = v_p - v_c1\n",
    "Delta_v_2 = v_c2 - v_a\n",
    "\n",
    "print('Delta_v_1 = %.2f m/s' % Delta_v_1)\n",
    "print('Delta_v_2 = %.2f m/s' % Delta_v_2)"
   ]
  },
  {
   "cell_type": "markdown",
   "metadata": {},
   "source": [
    "## Exercise 1.3\n",
    "\n",
    "Compute the TOF\n",
    "\n",
    "The time of flight is given by:\n",
    "\n",
    "$$\n",
    "TOF=\\frac{T}{2}=\\frac{\\pi}{n}=\\pi \\sqrt{\\frac{a^{3}}{\\mu}}\n",
    "$$\n",
    "\n"
   ]
  },
  {
   "cell_type": "code",
   "execution_count": 3,
   "metadata": {},
   "outputs": [
    {
     "name": "stdout",
     "output_type": "stream",
     "text": [
      "Time of Flight = 18993.16 seconds\n"
     ]
    }
   ],
   "source": [
    "# Exercise 3\n",
    "\n",
    "TOF = np.pi*np.sqrt(pow(a, 3)/mu)\n",
    "\n",
    "print('Time of Flight = %.2f seconds' % TOF)"
   ]
  },
  {
   "cell_type": "markdown",
   "metadata": {},
   "source": [
    "## Exercise 1.4\n",
    "\n",
    "Above which place of the Earth, the first maneuver should take place in order the satellite to be placed in a geostatic orbit above Greece?\n",
    "\n",
    "Let us consider a geostationary satellite already in orbit above Greece. In order for our satellite to get in a geostatic orbit above Greece, the satellite must start at an angle $\\theta$ before greece, namely:\n",
    "\n",
    "$$\n",
    "\\theta=\\pi\\left(1-\\frac{1}{2 \\sqrt{2}}\\left(1+\\left(\\frac{R_{1}}{R_{2}}\\right)^{3}\\right)^{1 / 2}\\right)\n",
    "$$\n",
    "\n",
    "We can then subtract $\\theta$ from the longitude of Greece to get the desired starting longitude above which we should start the maneuver in order to be placed in a geostationary orbit above Greece."
   ]
  },
  {
   "cell_type": "code",
   "execution_count": 4,
   "metadata": {},
   "outputs": [
    {
     "name": "stdout",
     "output_type": "stream",
     "text": [
      "Start longitude = -92.506 degrees\n"
     ]
    }
   ],
   "source": [
    "# Exercise 4\n",
    "\n",
    "lon_greece = 23.7275\n",
    "theta = np.pi*(1-((1/(2*np.sqrt(2)))*np.sqrt(1+pow((R1/R2), 3))))\n",
    "desired_longitude = lon_greece - np.rad2deg(theta)\n",
    "print('Start longitude = %.3f degrees' % desired_longitude)"
   ]
  }
 ],
 "metadata": {
  "kernelspec": {
   "display_name": "Python 3",
   "language": "python",
   "name": "python3"
  },
  "language_info": {
   "codemirror_mode": {
    "name": "ipython",
    "version": 3
   },
   "file_extension": ".py",
   "mimetype": "text/x-python",
   "name": "python",
   "nbconvert_exporter": "python",
   "pygments_lexer": "ipython3",
   "version": "3.7.8"
  }
 },
 "nbformat": 4,
 "nbformat_minor": 4
}
